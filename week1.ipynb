{
  "nbformat": 4,
  "nbformat_minor": 0,
  "metadata": {
    "colab": {
      "provenance": [],
      "include_colab_link": true
    },
    "kernelspec": {
      "name": "python3",
      "display_name": "Python 3"
    },
    "language_info": {
      "name": "python"
    }
  },
  "cells": [
    {
      "cell_type": "markdown",
      "metadata": {
        "id": "view-in-github",
        "colab_type": "text"
      },
      "source": [
        "<a href=\"https://colab.research.google.com/github/nisha1365/IIT-Summer-2023/blob/main/week1.ipynb\" target=\"_parent\"><img src=\"https://colab.research.google.com/assets/colab-badge.svg\" alt=\"Open In Colab\"/></a>"
      ]
    },
    {
      "cell_type": "markdown",
      "source": [
        "**Welcome to your first assignment of Summer Analytics 2023! We hope you are excited to implement and test everything you have learnt up until now.<a href = \"https://drive.google.com/file/d/1U73P58VAc4EXM98Or9feKnVx9I9FOP_L/view?usp=sharing\"> The dataset</a> which you'll use includes information about Movies.**"
      ],
      "metadata": {
        "id": "7t7O3hPJQQ1h"
      }
    },
    {
      "cell_type": "markdown",
      "source": [
        " We've got an interesting set of questions for you to get a basic understanding of pandas and data visualization libraries. GOOD LUCK!\n",
        " \n",
        "Let's get started with importing numpy, pandas, seaborn and matplotlib! "
      ],
      "metadata": {
        "id": "8yDZv8F_QiqH"
      }
    },
    {
      "cell_type": "markdown",
      "source": [
        "Note - matplotlib should be imported with the command :\n",
        "\n",
        "**import matplotlib.pyplot as plt**"
      ],
      "metadata": {
        "id": "p-nMuCNQQxx_"
      }
    },
    {
      "cell_type": "markdown",
      "source": [
        "Start by importing all important libraries"
      ],
      "metadata": {
        "id": "nz8BTfnCRC8v"
      }
    },
    {
      "cell_type": "code",
      "execution_count": 1,
      "metadata": {
        "id": "rKkyeMJiO0up"
      },
      "outputs": [],
      "source": [
        "import numpy as np\n",
        "import pandas as pd\n",
        "import seaborn as sns\n",
        "import matplotlib.pyplot as plt\n",
        "%matplotlib inline"
      ]
    },
    {
      "cell_type": "markdown",
      "source": [
        "Read the csv file and assign it to a variable ."
      ],
      "metadata": {
        "id": "2N8LabERRONN"
      }
    },
    {
      "cell_type": "code",
      "source": [
        "df = pd.read_csv('/content/imdb_top_1000.csv')"
      ],
      "metadata": {
        "id": "vnjh3IZmRO72"
      },
      "execution_count": 2,
      "outputs": []
    },
    {
      "cell_type": "code",
      "source": [
        "df.head()"
      ],
      "metadata": {
        "id": "SzRKLPe-t4A3",
        "outputId": "39e0c9da-6491-4411-d5dc-5c5c26aa733f",
        "colab": {
          "base_uri": "https://localhost:8080/",
          "height": 721
        }
      },
      "execution_count": 3,
      "outputs": [
        {
          "output_type": "execute_result",
          "data": {
            "text/plain": [
              "                                         Poster_Link  \\\n",
              "0  https://m.media-amazon.com/images/M/MV5BMDFkYT...   \n",
              "1  https://m.media-amazon.com/images/M/MV5BM2MyNj...   \n",
              "2  https://m.media-amazon.com/images/M/MV5BMTMxNT...   \n",
              "3  https://m.media-amazon.com/images/M/MV5BMWMwMG...   \n",
              "4  https://m.media-amazon.com/images/M/MV5BMWU4N2...   \n",
              "\n",
              "               Series_Title Released_Year Certificate  Runtime  \\\n",
              "0  The Shawshank Redemption          1994           A  142 min   \n",
              "1             The Godfather          1972           A  175 min   \n",
              "2           The Dark Knight          2008          UA  152 min   \n",
              "3    The Godfather: Part II          1974           A  202 min   \n",
              "4              12 Angry Men          1957           U   96 min   \n",
              "\n",
              "                  Genre  IMDB_Rating  \\\n",
              "0                 Drama          9.3   \n",
              "1          Crime, Drama          9.2   \n",
              "2  Action, Crime, Drama          9.0   \n",
              "3          Crime, Drama          9.0   \n",
              "4          Crime, Drama          9.0   \n",
              "\n",
              "                                            Overview  Meta_score  \\\n",
              "0  Two imprisoned men bond over a number of years...        80.0   \n",
              "1  An organized crime dynasty's aging patriarch t...       100.0   \n",
              "2  When the menace known as the Joker wreaks havo...        84.0   \n",
              "3  The early life and career of Vito Corleone in ...        90.0   \n",
              "4  A jury holdout attempts to prevent a miscarria...        96.0   \n",
              "\n",
              "               Director           Star1           Star2          Star3  \\\n",
              "0        Frank Darabont     Tim Robbins  Morgan Freeman     Bob Gunton   \n",
              "1  Francis Ford Coppola   Marlon Brando       Al Pacino     James Caan   \n",
              "2     Christopher Nolan  Christian Bale    Heath Ledger  Aaron Eckhart   \n",
              "3  Francis Ford Coppola       Al Pacino  Robert De Niro  Robert Duvall   \n",
              "4          Sidney Lumet     Henry Fonda     Lee J. Cobb  Martin Balsam   \n",
              "\n",
              "            Star4  No_of_Votes        Gross  \n",
              "0  William Sadler      2343110   28,341,469  \n",
              "1    Diane Keaton      1620367  134,966,411  \n",
              "2   Michael Caine      2303232  534,858,444  \n",
              "3    Diane Keaton      1129952   57,300,000  \n",
              "4    John Fiedler       689845    4,360,000  "
            ],
            "text/html": [
              "\n",
              "  <div id=\"df-a6be94dd-2acc-4d35-a972-b7082ae89c21\">\n",
              "    <div class=\"colab-df-container\">\n",
              "      <div>\n",
              "<style scoped>\n",
              "    .dataframe tbody tr th:only-of-type {\n",
              "        vertical-align: middle;\n",
              "    }\n",
              "\n",
              "    .dataframe tbody tr th {\n",
              "        vertical-align: top;\n",
              "    }\n",
              "\n",
              "    .dataframe thead th {\n",
              "        text-align: right;\n",
              "    }\n",
              "</style>\n",
              "<table border=\"1\" class=\"dataframe\">\n",
              "  <thead>\n",
              "    <tr style=\"text-align: right;\">\n",
              "      <th></th>\n",
              "      <th>Poster_Link</th>\n",
              "      <th>Series_Title</th>\n",
              "      <th>Released_Year</th>\n",
              "      <th>Certificate</th>\n",
              "      <th>Runtime</th>\n",
              "      <th>Genre</th>\n",
              "      <th>IMDB_Rating</th>\n",
              "      <th>Overview</th>\n",
              "      <th>Meta_score</th>\n",
              "      <th>Director</th>\n",
              "      <th>Star1</th>\n",
              "      <th>Star2</th>\n",
              "      <th>Star3</th>\n",
              "      <th>Star4</th>\n",
              "      <th>No_of_Votes</th>\n",
              "      <th>Gross</th>\n",
              "    </tr>\n",
              "  </thead>\n",
              "  <tbody>\n",
              "    <tr>\n",
              "      <th>0</th>\n",
              "      <td>https://m.media-amazon.com/images/M/MV5BMDFkYT...</td>\n",
              "      <td>The Shawshank Redemption</td>\n",
              "      <td>1994</td>\n",
              "      <td>A</td>\n",
              "      <td>142 min</td>\n",
              "      <td>Drama</td>\n",
              "      <td>9.3</td>\n",
              "      <td>Two imprisoned men bond over a number of years...</td>\n",
              "      <td>80.0</td>\n",
              "      <td>Frank Darabont</td>\n",
              "      <td>Tim Robbins</td>\n",
              "      <td>Morgan Freeman</td>\n",
              "      <td>Bob Gunton</td>\n",
              "      <td>William Sadler</td>\n",
              "      <td>2343110</td>\n",
              "      <td>28,341,469</td>\n",
              "    </tr>\n",
              "    <tr>\n",
              "      <th>1</th>\n",
              "      <td>https://m.media-amazon.com/images/M/MV5BM2MyNj...</td>\n",
              "      <td>The Godfather</td>\n",
              "      <td>1972</td>\n",
              "      <td>A</td>\n",
              "      <td>175 min</td>\n",
              "      <td>Crime, Drama</td>\n",
              "      <td>9.2</td>\n",
              "      <td>An organized crime dynasty's aging patriarch t...</td>\n",
              "      <td>100.0</td>\n",
              "      <td>Francis Ford Coppola</td>\n",
              "      <td>Marlon Brando</td>\n",
              "      <td>Al Pacino</td>\n",
              "      <td>James Caan</td>\n",
              "      <td>Diane Keaton</td>\n",
              "      <td>1620367</td>\n",
              "      <td>134,966,411</td>\n",
              "    </tr>\n",
              "    <tr>\n",
              "      <th>2</th>\n",
              "      <td>https://m.media-amazon.com/images/M/MV5BMTMxNT...</td>\n",
              "      <td>The Dark Knight</td>\n",
              "      <td>2008</td>\n",
              "      <td>UA</td>\n",
              "      <td>152 min</td>\n",
              "      <td>Action, Crime, Drama</td>\n",
              "      <td>9.0</td>\n",
              "      <td>When the menace known as the Joker wreaks havo...</td>\n",
              "      <td>84.0</td>\n",
              "      <td>Christopher Nolan</td>\n",
              "      <td>Christian Bale</td>\n",
              "      <td>Heath Ledger</td>\n",
              "      <td>Aaron Eckhart</td>\n",
              "      <td>Michael Caine</td>\n",
              "      <td>2303232</td>\n",
              "      <td>534,858,444</td>\n",
              "    </tr>\n",
              "    <tr>\n",
              "      <th>3</th>\n",
              "      <td>https://m.media-amazon.com/images/M/MV5BMWMwMG...</td>\n",
              "      <td>The Godfather: Part II</td>\n",
              "      <td>1974</td>\n",
              "      <td>A</td>\n",
              "      <td>202 min</td>\n",
              "      <td>Crime, Drama</td>\n",
              "      <td>9.0</td>\n",
              "      <td>The early life and career of Vito Corleone in ...</td>\n",
              "      <td>90.0</td>\n",
              "      <td>Francis Ford Coppola</td>\n",
              "      <td>Al Pacino</td>\n",
              "      <td>Robert De Niro</td>\n",
              "      <td>Robert Duvall</td>\n",
              "      <td>Diane Keaton</td>\n",
              "      <td>1129952</td>\n",
              "      <td>57,300,000</td>\n",
              "    </tr>\n",
              "    <tr>\n",
              "      <th>4</th>\n",
              "      <td>https://m.media-amazon.com/images/M/MV5BMWU4N2...</td>\n",
              "      <td>12 Angry Men</td>\n",
              "      <td>1957</td>\n",
              "      <td>U</td>\n",
              "      <td>96 min</td>\n",
              "      <td>Crime, Drama</td>\n",
              "      <td>9.0</td>\n",
              "      <td>A jury holdout attempts to prevent a miscarria...</td>\n",
              "      <td>96.0</td>\n",
              "      <td>Sidney Lumet</td>\n",
              "      <td>Henry Fonda</td>\n",
              "      <td>Lee J. Cobb</td>\n",
              "      <td>Martin Balsam</td>\n",
              "      <td>John Fiedler</td>\n",
              "      <td>689845</td>\n",
              "      <td>4,360,000</td>\n",
              "    </tr>\n",
              "  </tbody>\n",
              "</table>\n",
              "</div>\n",
              "      <button class=\"colab-df-convert\" onclick=\"convertToInteractive('df-a6be94dd-2acc-4d35-a972-b7082ae89c21')\"\n",
              "              title=\"Convert this dataframe to an interactive table.\"\n",
              "              style=\"display:none;\">\n",
              "        \n",
              "  <svg xmlns=\"http://www.w3.org/2000/svg\" height=\"24px\"viewBox=\"0 0 24 24\"\n",
              "       width=\"24px\">\n",
              "    <path d=\"M0 0h24v24H0V0z\" fill=\"none\"/>\n",
              "    <path d=\"M18.56 5.44l.94 2.06.94-2.06 2.06-.94-2.06-.94-.94-2.06-.94 2.06-2.06.94zm-11 1L8.5 8.5l.94-2.06 2.06-.94-2.06-.94L8.5 2.5l-.94 2.06-2.06.94zm10 10l.94 2.06.94-2.06 2.06-.94-2.06-.94-.94-2.06-.94 2.06-2.06.94z\"/><path d=\"M17.41 7.96l-1.37-1.37c-.4-.4-.92-.59-1.43-.59-.52 0-1.04.2-1.43.59L10.3 9.45l-7.72 7.72c-.78.78-.78 2.05 0 2.83L4 21.41c.39.39.9.59 1.41.59.51 0 1.02-.2 1.41-.59l7.78-7.78 2.81-2.81c.8-.78.8-2.07 0-2.86zM5.41 20L4 18.59l7.72-7.72 1.47 1.35L5.41 20z\"/>\n",
              "  </svg>\n",
              "      </button>\n",
              "      \n",
              "  <style>\n",
              "    .colab-df-container {\n",
              "      display:flex;\n",
              "      flex-wrap:wrap;\n",
              "      gap: 12px;\n",
              "    }\n",
              "\n",
              "    .colab-df-convert {\n",
              "      background-color: #E8F0FE;\n",
              "      border: none;\n",
              "      border-radius: 50%;\n",
              "      cursor: pointer;\n",
              "      display: none;\n",
              "      fill: #1967D2;\n",
              "      height: 32px;\n",
              "      padding: 0 0 0 0;\n",
              "      width: 32px;\n",
              "    }\n",
              "\n",
              "    .colab-df-convert:hover {\n",
              "      background-color: #E2EBFA;\n",
              "      box-shadow: 0px 1px 2px rgba(60, 64, 67, 0.3), 0px 1px 3px 1px rgba(60, 64, 67, 0.15);\n",
              "      fill: #174EA6;\n",
              "    }\n",
              "\n",
              "    [theme=dark] .colab-df-convert {\n",
              "      background-color: #3B4455;\n",
              "      fill: #D2E3FC;\n",
              "    }\n",
              "\n",
              "    [theme=dark] .colab-df-convert:hover {\n",
              "      background-color: #434B5C;\n",
              "      box-shadow: 0px 1px 3px 1px rgba(0, 0, 0, 0.15);\n",
              "      filter: drop-shadow(0px 1px 2px rgba(0, 0, 0, 0.3));\n",
              "      fill: #FFFFFF;\n",
              "    }\n",
              "  </style>\n",
              "\n",
              "      <script>\n",
              "        const buttonEl =\n",
              "          document.querySelector('#df-a6be94dd-2acc-4d35-a972-b7082ae89c21 button.colab-df-convert');\n",
              "        buttonEl.style.display =\n",
              "          google.colab.kernel.accessAllowed ? 'block' : 'none';\n",
              "\n",
              "        async function convertToInteractive(key) {\n",
              "          const element = document.querySelector('#df-a6be94dd-2acc-4d35-a972-b7082ae89c21');\n",
              "          const dataTable =\n",
              "            await google.colab.kernel.invokeFunction('convertToInteractive',\n",
              "                                                     [key], {});\n",
              "          if (!dataTable) return;\n",
              "\n",
              "          const docLinkHtml = 'Like what you see? Visit the ' +\n",
              "            '<a target=\"_blank\" href=https://colab.research.google.com/notebooks/data_table.ipynb>data table notebook</a>'\n",
              "            + ' to learn more about interactive tables.';\n",
              "          element.innerHTML = '';\n",
              "          dataTable['output_type'] = 'display_data';\n",
              "          await google.colab.output.renderOutput(dataTable, element);\n",
              "          const docLink = document.createElement('div');\n",
              "          docLink.innerHTML = docLinkHtml;\n",
              "          element.appendChild(docLink);\n",
              "        }\n",
              "      </script>\n",
              "    </div>\n",
              "  </div>\n",
              "  "
            ]
          },
          "metadata": {},
          "execution_count": 3
        }
      ]
    },
    {
      "cell_type": "markdown",
      "source": [
        "Display shape of dataframe"
      ],
      "metadata": {
        "id": "EifdwomBRPxy"
      }
    },
    {
      "cell_type": "code",
      "source": [
        "df.shape"
      ],
      "metadata": {
        "id": "RhL6waKZtzWK",
        "outputId": "915abe5f-c835-4504-97b6-96d7299e0c44",
        "colab": {
          "base_uri": "https://localhost:8080/"
        }
      },
      "execution_count": 4,
      "outputs": [
        {
          "output_type": "execute_result",
          "data": {
            "text/plain": [
              "(1000, 16)"
            ]
          },
          "metadata": {},
          "execution_count": 4
        }
      ]
    },
    {
      "cell_type": "markdown",
      "source": [
        "Print all columns of dataframe"
      ],
      "metadata": {
        "id": "Q9xTIt54RVTY"
      }
    },
    {
      "cell_type": "code",
      "source": [
        "df.columns"
      ],
      "metadata": {
        "id": "kn3VPvn6RV4_",
        "outputId": "36d51aca-3071-4849-bf4f-3eb6b94efd36",
        "colab": {
          "base_uri": "https://localhost:8080/"
        }
      },
      "execution_count": 5,
      "outputs": [
        {
          "output_type": "execute_result",
          "data": {
            "text/plain": [
              "Index(['Poster_Link', 'Series_Title', 'Released_Year', 'Certificate',\n",
              "       'Runtime', 'Genre', 'IMDB_Rating', 'Overview', 'Meta_score', 'Director',\n",
              "       'Star1', 'Star2', 'Star3', 'Star4', 'No_of_Votes', 'Gross'],\n",
              "      dtype='object')"
            ]
          },
          "metadata": {},
          "execution_count": 5
        }
      ]
    },
    {
      "cell_type": "markdown",
      "source": [
        "Remove the column 'Poster_Link' and update the dataframe."
      ],
      "metadata": {
        "id": "3jtm084KRleN"
      }
    },
    {
      "cell_type": "code",
      "source": [
        "df.drop('Poster_Link',axis = 1,inplace = True)\n",
        "df.head()\n"
      ],
      "metadata": {
        "id": "zYIz3q0ARnuU",
        "outputId": "f844cfd9-958f-48a2-d1ff-e2347baff0d3",
        "colab": {
          "base_uri": "https://localhost:8080/",
          "height": 721
        }
      },
      "execution_count": 6,
      "outputs": [
        {
          "output_type": "execute_result",
          "data": {
            "text/plain": [
              "               Series_Title Released_Year Certificate  Runtime  \\\n",
              "0  The Shawshank Redemption          1994           A  142 min   \n",
              "1             The Godfather          1972           A  175 min   \n",
              "2           The Dark Knight          2008          UA  152 min   \n",
              "3    The Godfather: Part II          1974           A  202 min   \n",
              "4              12 Angry Men          1957           U   96 min   \n",
              "\n",
              "                  Genre  IMDB_Rating  \\\n",
              "0                 Drama          9.3   \n",
              "1          Crime, Drama          9.2   \n",
              "2  Action, Crime, Drama          9.0   \n",
              "3          Crime, Drama          9.0   \n",
              "4          Crime, Drama          9.0   \n",
              "\n",
              "                                            Overview  Meta_score  \\\n",
              "0  Two imprisoned men bond over a number of years...        80.0   \n",
              "1  An organized crime dynasty's aging patriarch t...       100.0   \n",
              "2  When the menace known as the Joker wreaks havo...        84.0   \n",
              "3  The early life and career of Vito Corleone in ...        90.0   \n",
              "4  A jury holdout attempts to prevent a miscarria...        96.0   \n",
              "\n",
              "               Director           Star1           Star2          Star3  \\\n",
              "0        Frank Darabont     Tim Robbins  Morgan Freeman     Bob Gunton   \n",
              "1  Francis Ford Coppola   Marlon Brando       Al Pacino     James Caan   \n",
              "2     Christopher Nolan  Christian Bale    Heath Ledger  Aaron Eckhart   \n",
              "3  Francis Ford Coppola       Al Pacino  Robert De Niro  Robert Duvall   \n",
              "4          Sidney Lumet     Henry Fonda     Lee J. Cobb  Martin Balsam   \n",
              "\n",
              "            Star4  No_of_Votes        Gross  \n",
              "0  William Sadler      2343110   28,341,469  \n",
              "1    Diane Keaton      1620367  134,966,411  \n",
              "2   Michael Caine      2303232  534,858,444  \n",
              "3    Diane Keaton      1129952   57,300,000  \n",
              "4    John Fiedler       689845    4,360,000  "
            ],
            "text/html": [
              "\n",
              "  <div id=\"df-ec4723ab-9e85-4a68-ae7e-6f3160192d7d\">\n",
              "    <div class=\"colab-df-container\">\n",
              "      <div>\n",
              "<style scoped>\n",
              "    .dataframe tbody tr th:only-of-type {\n",
              "        vertical-align: middle;\n",
              "    }\n",
              "\n",
              "    .dataframe tbody tr th {\n",
              "        vertical-align: top;\n",
              "    }\n",
              "\n",
              "    .dataframe thead th {\n",
              "        text-align: right;\n",
              "    }\n",
              "</style>\n",
              "<table border=\"1\" class=\"dataframe\">\n",
              "  <thead>\n",
              "    <tr style=\"text-align: right;\">\n",
              "      <th></th>\n",
              "      <th>Series_Title</th>\n",
              "      <th>Released_Year</th>\n",
              "      <th>Certificate</th>\n",
              "      <th>Runtime</th>\n",
              "      <th>Genre</th>\n",
              "      <th>IMDB_Rating</th>\n",
              "      <th>Overview</th>\n",
              "      <th>Meta_score</th>\n",
              "      <th>Director</th>\n",
              "      <th>Star1</th>\n",
              "      <th>Star2</th>\n",
              "      <th>Star3</th>\n",
              "      <th>Star4</th>\n",
              "      <th>No_of_Votes</th>\n",
              "      <th>Gross</th>\n",
              "    </tr>\n",
              "  </thead>\n",
              "  <tbody>\n",
              "    <tr>\n",
              "      <th>0</th>\n",
              "      <td>The Shawshank Redemption</td>\n",
              "      <td>1994</td>\n",
              "      <td>A</td>\n",
              "      <td>142 min</td>\n",
              "      <td>Drama</td>\n",
              "      <td>9.3</td>\n",
              "      <td>Two imprisoned men bond over a number of years...</td>\n",
              "      <td>80.0</td>\n",
              "      <td>Frank Darabont</td>\n",
              "      <td>Tim Robbins</td>\n",
              "      <td>Morgan Freeman</td>\n",
              "      <td>Bob Gunton</td>\n",
              "      <td>William Sadler</td>\n",
              "      <td>2343110</td>\n",
              "      <td>28,341,469</td>\n",
              "    </tr>\n",
              "    <tr>\n",
              "      <th>1</th>\n",
              "      <td>The Godfather</td>\n",
              "      <td>1972</td>\n",
              "      <td>A</td>\n",
              "      <td>175 min</td>\n",
              "      <td>Crime, Drama</td>\n",
              "      <td>9.2</td>\n",
              "      <td>An organized crime dynasty's aging patriarch t...</td>\n",
              "      <td>100.0</td>\n",
              "      <td>Francis Ford Coppola</td>\n",
              "      <td>Marlon Brando</td>\n",
              "      <td>Al Pacino</td>\n",
              "      <td>James Caan</td>\n",
              "      <td>Diane Keaton</td>\n",
              "      <td>1620367</td>\n",
              "      <td>134,966,411</td>\n",
              "    </tr>\n",
              "    <tr>\n",
              "      <th>2</th>\n",
              "      <td>The Dark Knight</td>\n",
              "      <td>2008</td>\n",
              "      <td>UA</td>\n",
              "      <td>152 min</td>\n",
              "      <td>Action, Crime, Drama</td>\n",
              "      <td>9.0</td>\n",
              "      <td>When the menace known as the Joker wreaks havo...</td>\n",
              "      <td>84.0</td>\n",
              "      <td>Christopher Nolan</td>\n",
              "      <td>Christian Bale</td>\n",
              "      <td>Heath Ledger</td>\n",
              "      <td>Aaron Eckhart</td>\n",
              "      <td>Michael Caine</td>\n",
              "      <td>2303232</td>\n",
              "      <td>534,858,444</td>\n",
              "    </tr>\n",
              "    <tr>\n",
              "      <th>3</th>\n",
              "      <td>The Godfather: Part II</td>\n",
              "      <td>1974</td>\n",
              "      <td>A</td>\n",
              "      <td>202 min</td>\n",
              "      <td>Crime, Drama</td>\n",
              "      <td>9.0</td>\n",
              "      <td>The early life and career of Vito Corleone in ...</td>\n",
              "      <td>90.0</td>\n",
              "      <td>Francis Ford Coppola</td>\n",
              "      <td>Al Pacino</td>\n",
              "      <td>Robert De Niro</td>\n",
              "      <td>Robert Duvall</td>\n",
              "      <td>Diane Keaton</td>\n",
              "      <td>1129952</td>\n",
              "      <td>57,300,000</td>\n",
              "    </tr>\n",
              "    <tr>\n",
              "      <th>4</th>\n",
              "      <td>12 Angry Men</td>\n",
              "      <td>1957</td>\n",
              "      <td>U</td>\n",
              "      <td>96 min</td>\n",
              "      <td>Crime, Drama</td>\n",
              "      <td>9.0</td>\n",
              "      <td>A jury holdout attempts to prevent a miscarria...</td>\n",
              "      <td>96.0</td>\n",
              "      <td>Sidney Lumet</td>\n",
              "      <td>Henry Fonda</td>\n",
              "      <td>Lee J. Cobb</td>\n",
              "      <td>Martin Balsam</td>\n",
              "      <td>John Fiedler</td>\n",
              "      <td>689845</td>\n",
              "      <td>4,360,000</td>\n",
              "    </tr>\n",
              "  </tbody>\n",
              "</table>\n",
              "</div>\n",
              "      <button class=\"colab-df-convert\" onclick=\"convertToInteractive('df-ec4723ab-9e85-4a68-ae7e-6f3160192d7d')\"\n",
              "              title=\"Convert this dataframe to an interactive table.\"\n",
              "              style=\"display:none;\">\n",
              "        \n",
              "  <svg xmlns=\"http://www.w3.org/2000/svg\" height=\"24px\"viewBox=\"0 0 24 24\"\n",
              "       width=\"24px\">\n",
              "    <path d=\"M0 0h24v24H0V0z\" fill=\"none\"/>\n",
              "    <path d=\"M18.56 5.44l.94 2.06.94-2.06 2.06-.94-2.06-.94-.94-2.06-.94 2.06-2.06.94zm-11 1L8.5 8.5l.94-2.06 2.06-.94-2.06-.94L8.5 2.5l-.94 2.06-2.06.94zm10 10l.94 2.06.94-2.06 2.06-.94-2.06-.94-.94-2.06-.94 2.06-2.06.94z\"/><path d=\"M17.41 7.96l-1.37-1.37c-.4-.4-.92-.59-1.43-.59-.52 0-1.04.2-1.43.59L10.3 9.45l-7.72 7.72c-.78.78-.78 2.05 0 2.83L4 21.41c.39.39.9.59 1.41.59.51 0 1.02-.2 1.41-.59l7.78-7.78 2.81-2.81c.8-.78.8-2.07 0-2.86zM5.41 20L4 18.59l7.72-7.72 1.47 1.35L5.41 20z\"/>\n",
              "  </svg>\n",
              "      </button>\n",
              "      \n",
              "  <style>\n",
              "    .colab-df-container {\n",
              "      display:flex;\n",
              "      flex-wrap:wrap;\n",
              "      gap: 12px;\n",
              "    }\n",
              "\n",
              "    .colab-df-convert {\n",
              "      background-color: #E8F0FE;\n",
              "      border: none;\n",
              "      border-radius: 50%;\n",
              "      cursor: pointer;\n",
              "      display: none;\n",
              "      fill: #1967D2;\n",
              "      height: 32px;\n",
              "      padding: 0 0 0 0;\n",
              "      width: 32px;\n",
              "    }\n",
              "\n",
              "    .colab-df-convert:hover {\n",
              "      background-color: #E2EBFA;\n",
              "      box-shadow: 0px 1px 2px rgba(60, 64, 67, 0.3), 0px 1px 3px 1px rgba(60, 64, 67, 0.15);\n",
              "      fill: #174EA6;\n",
              "    }\n",
              "\n",
              "    [theme=dark] .colab-df-convert {\n",
              "      background-color: #3B4455;\n",
              "      fill: #D2E3FC;\n",
              "    }\n",
              "\n",
              "    [theme=dark] .colab-df-convert:hover {\n",
              "      background-color: #434B5C;\n",
              "      box-shadow: 0px 1px 3px 1px rgba(0, 0, 0, 0.15);\n",
              "      filter: drop-shadow(0px 1px 2px rgba(0, 0, 0, 0.3));\n",
              "      fill: #FFFFFF;\n",
              "    }\n",
              "  </style>\n",
              "\n",
              "      <script>\n",
              "        const buttonEl =\n",
              "          document.querySelector('#df-ec4723ab-9e85-4a68-ae7e-6f3160192d7d button.colab-df-convert');\n",
              "        buttonEl.style.display =\n",
              "          google.colab.kernel.accessAllowed ? 'block' : 'none';\n",
              "\n",
              "        async function convertToInteractive(key) {\n",
              "          const element = document.querySelector('#df-ec4723ab-9e85-4a68-ae7e-6f3160192d7d');\n",
              "          const dataTable =\n",
              "            await google.colab.kernel.invokeFunction('convertToInteractive',\n",
              "                                                     [key], {});\n",
              "          if (!dataTable) return;\n",
              "\n",
              "          const docLinkHtml = 'Like what you see? Visit the ' +\n",
              "            '<a target=\"_blank\" href=https://colab.research.google.com/notebooks/data_table.ipynb>data table notebook</a>'\n",
              "            + ' to learn more about interactive tables.';\n",
              "          element.innerHTML = '';\n",
              "          dataTable['output_type'] = 'display_data';\n",
              "          await google.colab.output.renderOutput(dataTable, element);\n",
              "          const docLink = document.createElement('div');\n",
              "          docLink.innerHTML = docLinkHtml;\n",
              "          element.appendChild(docLink);\n",
              "        }\n",
              "      </script>\n",
              "    </div>\n",
              "  </div>\n",
              "  "
            ]
          },
          "metadata": {},
          "execution_count": 6
        }
      ]
    },
    {
      "cell_type": "code",
      "source": [
        "df.dtypes"
      ],
      "metadata": {
        "id": "6V74btWb2ien",
        "outputId": "c1191fde-5bb2-48b3-d541-495338939229",
        "colab": {
          "base_uri": "https://localhost:8080/"
        }
      },
      "execution_count": 7,
      "outputs": [
        {
          "output_type": "execute_result",
          "data": {
            "text/plain": [
              "Series_Title      object\n",
              "Released_Year     object\n",
              "Certificate       object\n",
              "Runtime           object\n",
              "Genre             object\n",
              "IMDB_Rating      float64\n",
              "Overview          object\n",
              "Meta_score       float64\n",
              "Director          object\n",
              "Star1             object\n",
              "Star2             object\n",
              "Star3             object\n",
              "Star4             object\n",
              "No_of_Votes        int64\n",
              "Gross             object\n",
              "dtype: object"
            ]
          },
          "metadata": {},
          "execution_count": 7
        }
      ]
    },
    {
      "cell_type": "markdown",
      "source": [
        "Set the 'Series_Title' column as the index of dataframe"
      ],
      "metadata": {
        "id": "ss6QYp4YRrfY"
      }
    },
    {
      "cell_type": "code",
      "source": [
        "df.set_index('Series_Title')\n"
      ],
      "metadata": {
        "id": "iXNaEmTkR3tB",
        "outputId": "45bef627-d314-49b4-d617-a53dbeff24ed",
        "colab": {
          "base_uri": "https://localhost:8080/",
          "height": 1000
        }
      },
      "execution_count": 8,
      "outputs": [
        {
          "output_type": "execute_result",
          "data": {
            "text/plain": [
              "                         Released_Year Certificate  Runtime  \\\n",
              "Series_Title                                                  \n",
              "The Shawshank Redemption          1994           A  142 min   \n",
              "The Godfather                     1972           A  175 min   \n",
              "The Dark Knight                   2008          UA  152 min   \n",
              "The Godfather: Part II            1974           A  202 min   \n",
              "12 Angry Men                      1957           U   96 min   \n",
              "...                                ...         ...      ...   \n",
              "Breakfast at Tiffany's            1961           A  115 min   \n",
              "Giant                             1956           G  201 min   \n",
              "From Here to Eternity             1953      Passed  118 min   \n",
              "Lifeboat                          1944         NaN   97 min   \n",
              "The 39 Steps                      1935         NaN   86 min   \n",
              "\n",
              "                                             Genre  IMDB_Rating  \\\n",
              "Series_Title                                                      \n",
              "The Shawshank Redemption                     Drama          9.3   \n",
              "The Godfather                         Crime, Drama          9.2   \n",
              "The Dark Knight               Action, Crime, Drama          9.0   \n",
              "The Godfather: Part II                Crime, Drama          9.0   \n",
              "12 Angry Men                          Crime, Drama          9.0   \n",
              "...                                            ...          ...   \n",
              "Breakfast at Tiffany's      Comedy, Drama, Romance          7.6   \n",
              "Giant                               Drama, Western          7.6   \n",
              "From Here to Eternity          Drama, Romance, War          7.6   \n",
              "Lifeboat                                Drama, War          7.6   \n",
              "The 39 Steps              Crime, Mystery, Thriller          7.6   \n",
              "\n",
              "                                                                   Overview  \\\n",
              "Series_Title                                                                  \n",
              "The Shawshank Redemption  Two imprisoned men bond over a number of years...   \n",
              "The Godfather             An organized crime dynasty's aging patriarch t...   \n",
              "The Dark Knight           When the menace known as the Joker wreaks havo...   \n",
              "The Godfather: Part II    The early life and career of Vito Corleone in ...   \n",
              "12 Angry Men              A jury holdout attempts to prevent a miscarria...   \n",
              "...                                                                     ...   \n",
              "Breakfast at Tiffany's    A young New York socialite becomes interested ...   \n",
              "Giant                     Sprawling epic covering the life of a Texas ca...   \n",
              "From Here to Eternity     In Hawaii in 1941, a private is cruelly punish...   \n",
              "Lifeboat                  Several survivors of a torpedoed merchant ship...   \n",
              "The 39 Steps              A man in London tries to help a counter-espion...   \n",
              "\n",
              "                          Meta_score              Director              Star1  \\\n",
              "Series_Title                                                                    \n",
              "The Shawshank Redemption        80.0        Frank Darabont        Tim Robbins   \n",
              "The Godfather                  100.0  Francis Ford Coppola      Marlon Brando   \n",
              "The Dark Knight                 84.0     Christopher Nolan     Christian Bale   \n",
              "The Godfather: Part II          90.0  Francis Ford Coppola          Al Pacino   \n",
              "12 Angry Men                    96.0          Sidney Lumet        Henry Fonda   \n",
              "...                              ...                   ...                ...   \n",
              "Breakfast at Tiffany's          76.0         Blake Edwards     Audrey Hepburn   \n",
              "Giant                           84.0        George Stevens   Elizabeth Taylor   \n",
              "From Here to Eternity           85.0        Fred Zinnemann     Burt Lancaster   \n",
              "Lifeboat                        78.0      Alfred Hitchcock  Tallulah Bankhead   \n",
              "The 39 Steps                    93.0      Alfred Hitchcock       Robert Donat   \n",
              "\n",
              "                                      Star2           Star3           Star4  \\\n",
              "Series_Title                                                                  \n",
              "The Shawshank Redemption     Morgan Freeman      Bob Gunton  William Sadler   \n",
              "The Godfather                     Al Pacino      James Caan    Diane Keaton   \n",
              "The Dark Knight                Heath Ledger   Aaron Eckhart   Michael Caine   \n",
              "The Godfather: Part II       Robert De Niro   Robert Duvall    Diane Keaton   \n",
              "12 Angry Men                    Lee J. Cobb   Martin Balsam    John Fiedler   \n",
              "...                                     ...             ...             ...   \n",
              "Breakfast at Tiffany's       George Peppard   Patricia Neal     Buddy Ebsen   \n",
              "Giant                           Rock Hudson      James Dean   Carroll Baker   \n",
              "From Here to Eternity      Montgomery Clift    Deborah Kerr      Donna Reed   \n",
              "Lifeboat                        John Hodiak   Walter Slezak  William Bendix   \n",
              "The 39 Steps              Madeleine Carroll  Lucie Mannheim  Godfrey Tearle   \n",
              "\n",
              "                          No_of_Votes        Gross  \n",
              "Series_Title                                        \n",
              "The Shawshank Redemption      2343110   28,341,469  \n",
              "The Godfather                 1620367  134,966,411  \n",
              "The Dark Knight               2303232  534,858,444  \n",
              "The Godfather: Part II        1129952   57,300,000  \n",
              "12 Angry Men                   689845    4,360,000  \n",
              "...                               ...          ...  \n",
              "Breakfast at Tiffany's         166544          NaN  \n",
              "Giant                           34075          NaN  \n",
              "From Here to Eternity           43374   30,500,000  \n",
              "Lifeboat                        26471          NaN  \n",
              "The 39 Steps                    51853          NaN  \n",
              "\n",
              "[1000 rows x 14 columns]"
            ],
            "text/html": [
              "\n",
              "  <div id=\"df-3588ee3f-5c24-41fe-a71f-5a932092887f\">\n",
              "    <div class=\"colab-df-container\">\n",
              "      <div>\n",
              "<style scoped>\n",
              "    .dataframe tbody tr th:only-of-type {\n",
              "        vertical-align: middle;\n",
              "    }\n",
              "\n",
              "    .dataframe tbody tr th {\n",
              "        vertical-align: top;\n",
              "    }\n",
              "\n",
              "    .dataframe thead th {\n",
              "        text-align: right;\n",
              "    }\n",
              "</style>\n",
              "<table border=\"1\" class=\"dataframe\">\n",
              "  <thead>\n",
              "    <tr style=\"text-align: right;\">\n",
              "      <th></th>\n",
              "      <th>Released_Year</th>\n",
              "      <th>Certificate</th>\n",
              "      <th>Runtime</th>\n",
              "      <th>Genre</th>\n",
              "      <th>IMDB_Rating</th>\n",
              "      <th>Overview</th>\n",
              "      <th>Meta_score</th>\n",
              "      <th>Director</th>\n",
              "      <th>Star1</th>\n",
              "      <th>Star2</th>\n",
              "      <th>Star3</th>\n",
              "      <th>Star4</th>\n",
              "      <th>No_of_Votes</th>\n",
              "      <th>Gross</th>\n",
              "    </tr>\n",
              "    <tr>\n",
              "      <th>Series_Title</th>\n",
              "      <th></th>\n",
              "      <th></th>\n",
              "      <th></th>\n",
              "      <th></th>\n",
              "      <th></th>\n",
              "      <th></th>\n",
              "      <th></th>\n",
              "      <th></th>\n",
              "      <th></th>\n",
              "      <th></th>\n",
              "      <th></th>\n",
              "      <th></th>\n",
              "      <th></th>\n",
              "      <th></th>\n",
              "    </tr>\n",
              "  </thead>\n",
              "  <tbody>\n",
              "    <tr>\n",
              "      <th>The Shawshank Redemption</th>\n",
              "      <td>1994</td>\n",
              "      <td>A</td>\n",
              "      <td>142 min</td>\n",
              "      <td>Drama</td>\n",
              "      <td>9.3</td>\n",
              "      <td>Two imprisoned men bond over a number of years...</td>\n",
              "      <td>80.0</td>\n",
              "      <td>Frank Darabont</td>\n",
              "      <td>Tim Robbins</td>\n",
              "      <td>Morgan Freeman</td>\n",
              "      <td>Bob Gunton</td>\n",
              "      <td>William Sadler</td>\n",
              "      <td>2343110</td>\n",
              "      <td>28,341,469</td>\n",
              "    </tr>\n",
              "    <tr>\n",
              "      <th>The Godfather</th>\n",
              "      <td>1972</td>\n",
              "      <td>A</td>\n",
              "      <td>175 min</td>\n",
              "      <td>Crime, Drama</td>\n",
              "      <td>9.2</td>\n",
              "      <td>An organized crime dynasty's aging patriarch t...</td>\n",
              "      <td>100.0</td>\n",
              "      <td>Francis Ford Coppola</td>\n",
              "      <td>Marlon Brando</td>\n",
              "      <td>Al Pacino</td>\n",
              "      <td>James Caan</td>\n",
              "      <td>Diane Keaton</td>\n",
              "      <td>1620367</td>\n",
              "      <td>134,966,411</td>\n",
              "    </tr>\n",
              "    <tr>\n",
              "      <th>The Dark Knight</th>\n",
              "      <td>2008</td>\n",
              "      <td>UA</td>\n",
              "      <td>152 min</td>\n",
              "      <td>Action, Crime, Drama</td>\n",
              "      <td>9.0</td>\n",
              "      <td>When the menace known as the Joker wreaks havo...</td>\n",
              "      <td>84.0</td>\n",
              "      <td>Christopher Nolan</td>\n",
              "      <td>Christian Bale</td>\n",
              "      <td>Heath Ledger</td>\n",
              "      <td>Aaron Eckhart</td>\n",
              "      <td>Michael Caine</td>\n",
              "      <td>2303232</td>\n",
              "      <td>534,858,444</td>\n",
              "    </tr>\n",
              "    <tr>\n",
              "      <th>The Godfather: Part II</th>\n",
              "      <td>1974</td>\n",
              "      <td>A</td>\n",
              "      <td>202 min</td>\n",
              "      <td>Crime, Drama</td>\n",
              "      <td>9.0</td>\n",
              "      <td>The early life and career of Vito Corleone in ...</td>\n",
              "      <td>90.0</td>\n",
              "      <td>Francis Ford Coppola</td>\n",
              "      <td>Al Pacino</td>\n",
              "      <td>Robert De Niro</td>\n",
              "      <td>Robert Duvall</td>\n",
              "      <td>Diane Keaton</td>\n",
              "      <td>1129952</td>\n",
              "      <td>57,300,000</td>\n",
              "    </tr>\n",
              "    <tr>\n",
              "      <th>12 Angry Men</th>\n",
              "      <td>1957</td>\n",
              "      <td>U</td>\n",
              "      <td>96 min</td>\n",
              "      <td>Crime, Drama</td>\n",
              "      <td>9.0</td>\n",
              "      <td>A jury holdout attempts to prevent a miscarria...</td>\n",
              "      <td>96.0</td>\n",
              "      <td>Sidney Lumet</td>\n",
              "      <td>Henry Fonda</td>\n",
              "      <td>Lee J. Cobb</td>\n",
              "      <td>Martin Balsam</td>\n",
              "      <td>John Fiedler</td>\n",
              "      <td>689845</td>\n",
              "      <td>4,360,000</td>\n",
              "    </tr>\n",
              "    <tr>\n",
              "      <th>...</th>\n",
              "      <td>...</td>\n",
              "      <td>...</td>\n",
              "      <td>...</td>\n",
              "      <td>...</td>\n",
              "      <td>...</td>\n",
              "      <td>...</td>\n",
              "      <td>...</td>\n",
              "      <td>...</td>\n",
              "      <td>...</td>\n",
              "      <td>...</td>\n",
              "      <td>...</td>\n",
              "      <td>...</td>\n",
              "      <td>...</td>\n",
              "      <td>...</td>\n",
              "    </tr>\n",
              "    <tr>\n",
              "      <th>Breakfast at Tiffany's</th>\n",
              "      <td>1961</td>\n",
              "      <td>A</td>\n",
              "      <td>115 min</td>\n",
              "      <td>Comedy, Drama, Romance</td>\n",
              "      <td>7.6</td>\n",
              "      <td>A young New York socialite becomes interested ...</td>\n",
              "      <td>76.0</td>\n",
              "      <td>Blake Edwards</td>\n",
              "      <td>Audrey Hepburn</td>\n",
              "      <td>George Peppard</td>\n",
              "      <td>Patricia Neal</td>\n",
              "      <td>Buddy Ebsen</td>\n",
              "      <td>166544</td>\n",
              "      <td>NaN</td>\n",
              "    </tr>\n",
              "    <tr>\n",
              "      <th>Giant</th>\n",
              "      <td>1956</td>\n",
              "      <td>G</td>\n",
              "      <td>201 min</td>\n",
              "      <td>Drama, Western</td>\n",
              "      <td>7.6</td>\n",
              "      <td>Sprawling epic covering the life of a Texas ca...</td>\n",
              "      <td>84.0</td>\n",
              "      <td>George Stevens</td>\n",
              "      <td>Elizabeth Taylor</td>\n",
              "      <td>Rock Hudson</td>\n",
              "      <td>James Dean</td>\n",
              "      <td>Carroll Baker</td>\n",
              "      <td>34075</td>\n",
              "      <td>NaN</td>\n",
              "    </tr>\n",
              "    <tr>\n",
              "      <th>From Here to Eternity</th>\n",
              "      <td>1953</td>\n",
              "      <td>Passed</td>\n",
              "      <td>118 min</td>\n",
              "      <td>Drama, Romance, War</td>\n",
              "      <td>7.6</td>\n",
              "      <td>In Hawaii in 1941, a private is cruelly punish...</td>\n",
              "      <td>85.0</td>\n",
              "      <td>Fred Zinnemann</td>\n",
              "      <td>Burt Lancaster</td>\n",
              "      <td>Montgomery Clift</td>\n",
              "      <td>Deborah Kerr</td>\n",
              "      <td>Donna Reed</td>\n",
              "      <td>43374</td>\n",
              "      <td>30,500,000</td>\n",
              "    </tr>\n",
              "    <tr>\n",
              "      <th>Lifeboat</th>\n",
              "      <td>1944</td>\n",
              "      <td>NaN</td>\n",
              "      <td>97 min</td>\n",
              "      <td>Drama, War</td>\n",
              "      <td>7.6</td>\n",
              "      <td>Several survivors of a torpedoed merchant ship...</td>\n",
              "      <td>78.0</td>\n",
              "      <td>Alfred Hitchcock</td>\n",
              "      <td>Tallulah Bankhead</td>\n",
              "      <td>John Hodiak</td>\n",
              "      <td>Walter Slezak</td>\n",
              "      <td>William Bendix</td>\n",
              "      <td>26471</td>\n",
              "      <td>NaN</td>\n",
              "    </tr>\n",
              "    <tr>\n",
              "      <th>The 39 Steps</th>\n",
              "      <td>1935</td>\n",
              "      <td>NaN</td>\n",
              "      <td>86 min</td>\n",
              "      <td>Crime, Mystery, Thriller</td>\n",
              "      <td>7.6</td>\n",
              "      <td>A man in London tries to help a counter-espion...</td>\n",
              "      <td>93.0</td>\n",
              "      <td>Alfred Hitchcock</td>\n",
              "      <td>Robert Donat</td>\n",
              "      <td>Madeleine Carroll</td>\n",
              "      <td>Lucie Mannheim</td>\n",
              "      <td>Godfrey Tearle</td>\n",
              "      <td>51853</td>\n",
              "      <td>NaN</td>\n",
              "    </tr>\n",
              "  </tbody>\n",
              "</table>\n",
              "<p>1000 rows × 14 columns</p>\n",
              "</div>\n",
              "      <button class=\"colab-df-convert\" onclick=\"convertToInteractive('df-3588ee3f-5c24-41fe-a71f-5a932092887f')\"\n",
              "              title=\"Convert this dataframe to an interactive table.\"\n",
              "              style=\"display:none;\">\n",
              "        \n",
              "  <svg xmlns=\"http://www.w3.org/2000/svg\" height=\"24px\"viewBox=\"0 0 24 24\"\n",
              "       width=\"24px\">\n",
              "    <path d=\"M0 0h24v24H0V0z\" fill=\"none\"/>\n",
              "    <path d=\"M18.56 5.44l.94 2.06.94-2.06 2.06-.94-2.06-.94-.94-2.06-.94 2.06-2.06.94zm-11 1L8.5 8.5l.94-2.06 2.06-.94-2.06-.94L8.5 2.5l-.94 2.06-2.06.94zm10 10l.94 2.06.94-2.06 2.06-.94-2.06-.94-.94-2.06-.94 2.06-2.06.94z\"/><path d=\"M17.41 7.96l-1.37-1.37c-.4-.4-.92-.59-1.43-.59-.52 0-1.04.2-1.43.59L10.3 9.45l-7.72 7.72c-.78.78-.78 2.05 0 2.83L4 21.41c.39.39.9.59 1.41.59.51 0 1.02-.2 1.41-.59l7.78-7.78 2.81-2.81c.8-.78.8-2.07 0-2.86zM5.41 20L4 18.59l7.72-7.72 1.47 1.35L5.41 20z\"/>\n",
              "  </svg>\n",
              "      </button>\n",
              "      \n",
              "  <style>\n",
              "    .colab-df-container {\n",
              "      display:flex;\n",
              "      flex-wrap:wrap;\n",
              "      gap: 12px;\n",
              "    }\n",
              "\n",
              "    .colab-df-convert {\n",
              "      background-color: #E8F0FE;\n",
              "      border: none;\n",
              "      border-radius: 50%;\n",
              "      cursor: pointer;\n",
              "      display: none;\n",
              "      fill: #1967D2;\n",
              "      height: 32px;\n",
              "      padding: 0 0 0 0;\n",
              "      width: 32px;\n",
              "    }\n",
              "\n",
              "    .colab-df-convert:hover {\n",
              "      background-color: #E2EBFA;\n",
              "      box-shadow: 0px 1px 2px rgba(60, 64, 67, 0.3), 0px 1px 3px 1px rgba(60, 64, 67, 0.15);\n",
              "      fill: #174EA6;\n",
              "    }\n",
              "\n",
              "    [theme=dark] .colab-df-convert {\n",
              "      background-color: #3B4455;\n",
              "      fill: #D2E3FC;\n",
              "    }\n",
              "\n",
              "    [theme=dark] .colab-df-convert:hover {\n",
              "      background-color: #434B5C;\n",
              "      box-shadow: 0px 1px 3px 1px rgba(0, 0, 0, 0.15);\n",
              "      filter: drop-shadow(0px 1px 2px rgba(0, 0, 0, 0.3));\n",
              "      fill: #FFFFFF;\n",
              "    }\n",
              "  </style>\n",
              "\n",
              "      <script>\n",
              "        const buttonEl =\n",
              "          document.querySelector('#df-3588ee3f-5c24-41fe-a71f-5a932092887f button.colab-df-convert');\n",
              "        buttonEl.style.display =\n",
              "          google.colab.kernel.accessAllowed ? 'block' : 'none';\n",
              "\n",
              "        async function convertToInteractive(key) {\n",
              "          const element = document.querySelector('#df-3588ee3f-5c24-41fe-a71f-5a932092887f');\n",
              "          const dataTable =\n",
              "            await google.colab.kernel.invokeFunction('convertToInteractive',\n",
              "                                                     [key], {});\n",
              "          if (!dataTable) return;\n",
              "\n",
              "          const docLinkHtml = 'Like what you see? Visit the ' +\n",
              "            '<a target=\"_blank\" href=https://colab.research.google.com/notebooks/data_table.ipynb>data table notebook</a>'\n",
              "            + ' to learn more about interactive tables.';\n",
              "          element.innerHTML = '';\n",
              "          dataTable['output_type'] = 'display_data';\n",
              "          await google.colab.output.renderOutput(dataTable, element);\n",
              "          const docLink = document.createElement('div');\n",
              "          docLink.innerHTML = docLinkHtml;\n",
              "          element.appendChild(docLink);\n",
              "        }\n",
              "      </script>\n",
              "    </div>\n",
              "  </div>\n",
              "  "
            ]
          },
          "metadata": {},
          "execution_count": 8
        }
      ]
    },
    {
      "cell_type": "markdown",
      "source": [
        "Print a list of all the unique Genre"
      ],
      "metadata": {
        "id": "f6cj49w0R4PS"
      }
    },
    {
      "cell_type": "code",
      "source": [
        "# display the unique values in the Series\n",
        "print(df.Genre.unique())"
      ],
      "metadata": {
        "id": "CO4kbBsySVjr",
        "outputId": "7168c6b2-2e6f-4dbb-d75f-743198967d5a",
        "colab": {
          "base_uri": "https://localhost:8080/"
        }
      },
      "execution_count": 9,
      "outputs": [
        {
          "output_type": "stream",
          "name": "stdout",
          "text": [
            "['Drama' 'Crime, Drama' 'Action, Crime, Drama' 'Action, Adventure, Drama'\n",
            " 'Biography, Drama, History' 'Action, Adventure, Sci-Fi' 'Drama, Romance'\n",
            " 'Western' 'Action, Sci-Fi' 'Biography, Crime, Drama'\n",
            " 'Action, Adventure, Fantasy' 'Comedy, Drama, Thriller'\n",
            " 'Adventure, Drama, Sci-Fi' 'Animation, Adventure, Family' 'Drama, War'\n",
            " 'Crime, Drama, Fantasy' 'Comedy, Drama, Romance' 'Crime, Drama, Mystery'\n",
            " 'Crime, Drama, Thriller' 'Action, Drama, Mystery'\n",
            " 'Drama, Family, Fantasy' 'Drama, Music' 'Biography, Comedy, Drama'\n",
            " 'Drama, Mystery, Sci-Fi' 'Biography, Drama, Music'\n",
            " 'Crime, Mystery, Thriller' 'Animation, Adventure, Drama'\n",
            " 'Animation, Drama, War' 'Adventure, Comedy, Sci-Fi'\n",
            " 'Horror, Mystery, Thriller' 'Drama, Romance, War' 'Comedy, Drama, Family'\n",
            " 'Animation, Drama, Fantasy' 'Action, Biography, Drama'\n",
            " 'Animation, Action, Adventure' 'Drama, Western' 'Action, Adventure'\n",
            " 'Comedy, Drama' 'Drama, Family' 'Drama, Mystery, Thriller'\n",
            " 'Mystery, Thriller' 'Drama, Horror' 'Drama, Mystery, War'\n",
            " 'Horror, Sci-Fi' 'Drama, Musical' 'Comedy' 'Drama, Film-Noir'\n",
            " 'Comedy, Drama, War' 'Drama, Thriller, War' 'Drama, Fantasy, Horror'\n",
            " 'Crime, Drama, Music' 'Adventure, Drama, War' 'Drama, Romance, Sci-Fi'\n",
            " 'Comedy, Romance' 'Comedy, Crime' 'Drama, Family, Sport'\n",
            " 'Animation, Adventure, Comedy' 'Adventure, Drama, Thriller'\n",
            " 'Comedy, Crime, Drama' 'Crime, Drama, Sci-Fi' 'Adventure, Sci-Fi'\n",
            " 'Adventure, Biography, Drama' 'Adventure, Mystery, Thriller'\n",
            " 'Mystery, Romance, Thriller' 'Comedy, Musical, Romance'\n",
            " 'Crime, Drama, Film-Noir' 'Drama, Mystery' 'Drama, Sci-Fi'\n",
            " 'Action, Drama, War' 'Action, Drama' 'Adventure, Comedy, Drama'\n",
            " 'Biography, Drama, Sport' 'Action, Comedy, Crime'\n",
            " 'Action, Biography, Crime' 'Drama, Mystery, Romance'\n",
            " 'Action, Drama, Sport' 'Drama, Fantasy, War' 'Action, Drama, Sci-Fi'\n",
            " 'Biography, Drama' 'Action, Comedy, Romance' 'Animation, Family, Fantasy'\n",
            " 'Action, Thriller' 'Action, Adventure, Comedy'\n",
            " 'Adventure, Comedy, Fantasy' 'Adventure, Drama, History'\n",
            " 'Action, Drama, Thriller' 'Comedy, Music, Romance'\n",
            " 'Drama, Fantasy, History' 'Crime, Thriller' 'Adventure, Drama, Western'\n",
            " 'Comedy, War' 'Drama, Thriller' 'Animation, Drama, Family'\n",
            " 'Drama, Romance, Thriller' 'Comedy, Drama, Musical'\n",
            " 'Comedy, Drama, Fantasy' 'Adventure, Comedy, Crime'\n",
            " 'Adventure, Drama, Fantasy' 'Biography, Drama, Family'\n",
            " 'Animation, Comedy, Drama' 'Drama, Sport' 'Animation, Action, Drama'\n",
            " 'Adventure, Drama, Musical' 'Drama, Music, Romance'\n",
            " 'Comedy, Crime, Romance' 'Comedy, Crime, Sport' 'Drama, History, Romance'\n",
            " 'Adventure, Drama' 'Animation, Adventure, Fantasy'\n",
            " 'Horror, Mystery, Sci-Fi' 'Drama, Fantasy, Music'\n",
            " 'Action, Sci-Fi, Thriller' 'Drama, Fantasy' 'Drama, Horror, Thriller'\n",
            " 'Drama, History' 'Film-Noir, Mystery, Thriller'\n",
            " 'Fantasy, Horror, Mystery' 'Action, Crime, Thriller'\n",
            " 'Comedy, Drama, Music' 'Biography, Drama, Thriller'\n",
            " 'Animation, Biography, Drama' 'Action, Mystery, Thriller'\n",
            " 'Crime, Drama, Romance' 'Action, Adventure, Thriller'\n",
            " 'Crime, Drama, Musical' 'Animation, Crime, Mystery'\n",
            " 'Action, Crime, Comedy' 'Mystery, Sci-Fi, Thriller'\n",
            " 'Animation, Action, Crime' 'Comedy, Fantasy, Romance'\n",
            " 'Drama, History, Thriller' 'Animation, Action, Sci-Fi'\n",
            " 'Adventure, Family, Fantasy' 'Drama, Fantasy, Romance'\n",
            " 'Drama, History, War' 'Adventure, Thriller' 'Horror'\n",
            " 'Drama, Family, Musical' 'Action, Drama, Western' 'Crime, Drama, Horror'\n",
            " 'Drama, Film-Noir, Mystery' 'Comedy, Crime, Thriller'\n",
            " 'Film-Noir, Mystery' 'Comedy, Crime, Mystery' 'Drama, Fantasy, Mystery'\n",
            " 'Comedy, Horror' 'Action, Adventure, History' 'Drama, Music, Mystery'\n",
            " 'Comedy, Music' 'Comedy, Family' 'Drama, Music, Musical'\n",
            " 'Action, Adventure, Horror' 'Action, Adventure, Biography'\n",
            " 'Biography, Drama, War' 'Action, Adventure, Western' 'Horror, Thriller'\n",
            " 'Comedy, Mystery, Romance' 'Drama, Thriller, Western'\n",
            " 'Crime, Film-Noir, Thriller' 'Drama, Film-Noir, Romance'\n",
            " 'Crime, Film-Noir, Mystery' 'Action, Adventure, Romance'\n",
            " 'Comedy, Music, Musical' 'Adventure, Horror, Sci-Fi' 'Fantasy, Horror'\n",
            " 'Action, Drama, History' 'Adventure, Comedy, Family'\n",
            " 'Animation, Biography, Crime' 'Adventure, Biography, Crime'\n",
            " 'Adventure, Fantasy' 'Drama, History, Mystery' 'Action, Comedy, Mystery'\n",
            " 'Adventure, Drama, Romance' 'Drama, Sci-Fi, Thriller'\n",
            " 'Crime, Drama, History' 'Action, Comedy, Fantasy' 'Family, Sci-Fi'\n",
            " 'Adventure, History, War' 'Animation, Sci-Fi' 'Family, Fantasy, Musical'\n",
            " 'Thriller' 'Comedy, Family, Fantasy' 'Adventure, Comedy, Film-Noir'\n",
            " 'Film-Noir, Thriller' 'Comedy, Family, Romance' 'Drama, Horror, Sci-Fi'\n",
            " 'Comedy, Musical, War' 'Biography, Drama, Romance'\n",
            " 'Drama, History, Music' 'Animation, Action, Fantasy'\n",
            " 'Animation, Comedy, Fantasy' 'Comedy, Western' 'Action, Adventure, War'\n",
            " 'Drama, Horror, Mystery' 'Animation, Comedy, Crime'\n",
            " 'Action, Adventure, Crime' 'Action, Adventure, Mystery'\n",
            " 'Action, Adventure, Family' 'Action, Crime, Mystery'\n",
            " 'Animation, Drama, Romance' 'Drama, War, Western'\n",
            " 'Adventure, Comedy, War']\n"
          ]
        }
      ]
    },
    {
      "cell_type": "code",
      "source": [
        "df.Genre.nunique()"
      ],
      "metadata": {
        "id": "DCGAIxoCwSyN",
        "outputId": "ae84807f-b275-4dfa-de2e-9ba60c33f807",
        "colab": {
          "base_uri": "https://localhost:8080/"
        }
      },
      "execution_count": 10,
      "outputs": [
        {
          "output_type": "execute_result",
          "data": {
            "text/plain": [
              "202"
            ]
          },
          "metadata": {},
          "execution_count": 10
        }
      ]
    },
    {
      "cell_type": "markdown",
      "source": [
        "1. What is the Number of Directors in the given dataset ? "
      ],
      "metadata": {
        "id": "Dfj_ZoVBS97W"
      }
    },
    {
      "cell_type": "code",
      "source": [
        "df['Director'].nunique()"
      ],
      "metadata": {
        "id": "92f8NLciTIU_",
        "outputId": "633d2817-785b-40d7-cf9e-ed9c0a3d6fd1",
        "colab": {
          "base_uri": "https://localhost:8080/"
        }
      },
      "execution_count": 11,
      "outputs": [
        {
          "output_type": "execute_result",
          "data": {
            "text/plain": [
              "548"
            ]
          },
          "metadata": {},
          "execution_count": 11
        }
      ]
    },
    {
      "cell_type": "markdown",
      "source": [
        "2. What is the mean, median and standard deviation of IMDB rating in the dataset ?"
      ],
      "metadata": {
        "id": "5UnvBViyTOc9"
      }
    },
    {
      "cell_type": "code",
      "source": [
        "df['IMDB_Rating'].mean()"
      ],
      "metadata": {
        "id": "sOL7O83LTg30",
        "outputId": "38fb3554-6b55-4cb0-bd0d-f1e3f54b5238",
        "colab": {
          "base_uri": "https://localhost:8080/"
        }
      },
      "execution_count": 12,
      "outputs": [
        {
          "output_type": "execute_result",
          "data": {
            "text/plain": [
              "7.949299999999999"
            ]
          },
          "metadata": {},
          "execution_count": 12
        }
      ]
    },
    {
      "cell_type": "code",
      "source": [
        "df['IMDB_Rating'].median()"
      ],
      "metadata": {
        "id": "P3hdppvHxvTB",
        "outputId": "f2b4f297-8e76-478f-9ed5-2d7a198962f5",
        "colab": {
          "base_uri": "https://localhost:8080/"
        }
      },
      "execution_count": 13,
      "outputs": [
        {
          "output_type": "execute_result",
          "data": {
            "text/plain": [
              "7.9"
            ]
          },
          "metadata": {},
          "execution_count": 13
        }
      ]
    },
    {
      "cell_type": "code",
      "source": [
        "df['IMDB_Rating'].std()"
      ],
      "metadata": {
        "id": "wvWJXLgBxzmX",
        "outputId": "68479a1e-5064-4086-a084-f99defa15b27",
        "colab": {
          "base_uri": "https://localhost:8080/"
        }
      },
      "execution_count": 14,
      "outputs": [
        {
          "output_type": "execute_result",
          "data": {
            "text/plain": [
              "0.2754912074920095"
            ]
          },
          "metadata": {},
          "execution_count": 14
        }
      ]
    },
    {
      "cell_type": "markdown",
      "source": [
        "3. Which director has directed the most number of movies?"
      ],
      "metadata": {
        "id": "d_k1zoajTxyx"
      }
    },
    {
      "cell_type": "code",
      "source": [
        "df['Director'].sort_values(ascending = False)"
      ],
      "metadata": {
        "id": "-gvnNqSsT88L",
        "outputId": "359919b6-9d6d-4c35-854b-f143b2f1cb6d",
        "colab": {
          "base_uri": "https://localhost:8080/"
        }
      },
      "execution_count": 15,
      "outputs": [
        {
          "output_type": "execute_result",
          "data": {
            "text/plain": [
              "366       Ömer Faruk Sorak\n",
              "92             Çagan Irmak\n",
              "221            Zoya Akhtar\n",
              "334            Zoya Akhtar\n",
              "138         Zaza Urushadze\n",
              "              ...         \n",
              "735        Abhishek Kapoor\n",
              "577       Abhishek Chaubey\n",
              "734    Abdellatif Kechiche\n",
              "612           Aaron Sorkin\n",
              "65              Aamir Khan\n",
              "Name: Director, Length: 1000, dtype: object"
            ]
          },
          "metadata": {},
          "execution_count": 15
        }
      ]
    },
    {
      "cell_type": "markdown",
      "source": [
        "### Ömer Faruk Sorak directed most number of movies."
      ],
      "metadata": {
        "id": "t0Dr7VCz1Qhj"
      }
    },
    {
      "cell_type": "markdown",
      "source": [
        "4. Name the Movie which has the highest Runtime ?"
      ],
      "metadata": {
        "id": "zGHeeFZnT-yx"
      }
    },
    {
      "cell_type": "code",
      "source": [
        "df.dtypes"
      ],
      "metadata": {
        "id": "PxkPJpMK4Lyl",
        "outputId": "4f6a468b-aca9-44d3-89c8-14fbc2117c48",
        "colab": {
          "base_uri": "https://localhost:8080/"
        }
      },
      "execution_count": 16,
      "outputs": [
        {
          "output_type": "execute_result",
          "data": {
            "text/plain": [
              "Series_Title      object\n",
              "Released_Year     object\n",
              "Certificate       object\n",
              "Runtime           object\n",
              "Genre             object\n",
              "IMDB_Rating      float64\n",
              "Overview          object\n",
              "Meta_score       float64\n",
              "Director          object\n",
              "Star1             object\n",
              "Star2             object\n",
              "Star3             object\n",
              "Star4             object\n",
              "No_of_Votes        int64\n",
              "Gross             object\n",
              "dtype: object"
            ]
          },
          "metadata": {},
          "execution_count": 16
        }
      ]
    },
    {
      "cell_type": "code",
      "source": [
        "df['Runtime'] = df['Runtime'].str.replace('min','').astype(np.float64)\n"
      ],
      "metadata": {
        "id": "XaJY74pH6WlZ"
      },
      "execution_count": 17,
      "outputs": []
    },
    {
      "cell_type": "code",
      "source": [
        "df.dtypes"
      ],
      "metadata": {
        "id": "jfF3FAoU9fqP",
        "outputId": "b3d50078-4af7-4a2d-8140-eb3cec76a22f",
        "colab": {
          "base_uri": "https://localhost:8080/"
        }
      },
      "execution_count": 19,
      "outputs": [
        {
          "output_type": "execute_result",
          "data": {
            "text/plain": [
              "Series_Title      object\n",
              "Released_Year     object\n",
              "Certificate       object\n",
              "Runtime          float64\n",
              "Genre             object\n",
              "IMDB_Rating      float64\n",
              "Overview          object\n",
              "Meta_score       float64\n",
              "Director          object\n",
              "Star1             object\n",
              "Star2             object\n",
              "Star3             object\n",
              "Star4             object\n",
              "No_of_Votes        int64\n",
              "Gross             object\n",
              "dtype: object"
            ]
          },
          "metadata": {},
          "execution_count": 19
        }
      ]
    },
    {
      "cell_type": "code",
      "source": [
        "\n",
        "df = df._convert(numeric=True)\n",
        "df.dtypes\n"
      ],
      "metadata": {
        "id": "t5o5P8ON9kIk",
        "outputId": "9e790d45-2ea0-4278-af45-2808545e5a87",
        "colab": {
          "base_uri": "https://localhost:8080/"
        }
      },
      "execution_count": 29,
      "outputs": [
        {
          "output_type": "execute_result",
          "data": {
            "text/plain": [
              "Series_Title     float64\n",
              "Released_Year    float64\n",
              "Certificate      float64\n",
              "Runtime          float64\n",
              "Genre             object\n",
              "IMDB_Rating      float64\n",
              "Overview          object\n",
              "Meta_score       float64\n",
              "Director          object\n",
              "Star1             object\n",
              "Star2             object\n",
              "Star3             object\n",
              "Star4             object\n",
              "No_of_Votes        int64\n",
              "Gross             object\n",
              "dtype: object"
            ]
          },
          "metadata": {},
          "execution_count": 29
        }
      ]
    },
    {
      "cell_type": "markdown",
      "source": [
        "Mainly the 'Released_Year' & 'Runtime' is converted to float so we can work with this."
      ],
      "metadata": {
        "id": "pGC9meQZ_Cyj"
      }
    },
    {
      "cell_type": "markdown",
      "source": [
        "5. How many movies are released after year 2000 and have IMDB rating > 8.5 ?"
      ],
      "metadata": {
        "id": "ast-zD1gULUS"
      }
    },
    {
      "cell_type": "code",
      "source": [
        "X = df[(df.Released_Year > 2000) & (df.IMDB_Rating > 8.5)]"
      ],
      "metadata": {
        "id": "2SA7L3G-VLom"
      },
      "execution_count": 33,
      "outputs": []
    },
    {
      "cell_type": "code",
      "source": [
        "X"
      ],
      "metadata": {
        "id": "aBbuK0GhUZtK",
        "outputId": "3e071284-c8d6-48c4-fb4d-bf81dd4427bb",
        "colab": {
          "base_uri": "https://localhost:8080/",
          "height": 1000
        }
      },
      "execution_count": 34,
      "outputs": [
        {
          "output_type": "execute_result",
          "data": {
            "text/plain": [
              "    Series_Title  Released_Year  Certificate  Runtime  \\\n",
              "2            NaN         2008.0          NaN    152.0   \n",
              "5            NaN         2003.0          NaN    201.0   \n",
              "8            NaN         2010.0          NaN    148.0   \n",
              "10           NaN         2001.0          NaN    178.0   \n",
              "13           NaN         2002.0          NaN    179.0   \n",
              "18           NaN         2020.0          NaN    160.0   \n",
              "19           NaN         2019.0          NaN    132.0   \n",
              "20           NaN         2020.0          NaN    153.0   \n",
              "21           NaN         2014.0          NaN    169.0   \n",
              "22           NaN         2002.0          NaN    130.0   \n",
              "23           NaN         2001.0          NaN    125.0   \n",
              "\n",
              "                           Genre  IMDB_Rating  \\\n",
              "2           Action, Crime, Drama          9.0   \n",
              "5       Action, Adventure, Drama          8.9   \n",
              "8      Action, Adventure, Sci-Fi          8.8   \n",
              "10      Action, Adventure, Drama          8.8   \n",
              "13      Action, Adventure, Drama          8.7   \n",
              "18     Biography, Drama, History          8.6   \n",
              "19       Comedy, Drama, Thriller          8.6   \n",
              "20                         Drama          8.6   \n",
              "21      Adventure, Drama, Sci-Fi          8.6   \n",
              "22                  Crime, Drama          8.6   \n",
              "23  Animation, Adventure, Family          8.6   \n",
              "\n",
              "                                             Overview  Meta_score  \\\n",
              "2   When the menace known as the Joker wreaks havo...        84.0   \n",
              "5   Gandalf and Aragorn lead the World of Men agai...        94.0   \n",
              "8   A thief who steals corporate secrets through t...        74.0   \n",
              "10  A meek Hobbit from the Shire and eight compani...        92.0   \n",
              "13  While Frodo and Sam edge closer to Mordor with...        87.0   \n",
              "18  The real life of one of America's foremost fou...        90.0   \n",
              "19  Greed and class discrimination threaten the ne...        96.0   \n",
              "20  Nedumaaran Rajangam \"Maara\" sets out to make t...         NaN   \n",
              "21  A team of explorers travel through a wormhole ...        74.0   \n",
              "22  In the slums of Rio, two kids' paths diverge a...        79.0   \n",
              "23  During her family's move to the suburbs, a sul...        96.0   \n",
              "\n",
              "              Director                Star1                 Star2  \\\n",
              "2    Christopher Nolan       Christian Bale          Heath Ledger   \n",
              "5        Peter Jackson          Elijah Wood       Viggo Mortensen   \n",
              "8    Christopher Nolan    Leonardo DiCaprio  Joseph Gordon-Levitt   \n",
              "10       Peter Jackson          Elijah Wood          Ian McKellen   \n",
              "13       Peter Jackson          Elijah Wood          Ian McKellen   \n",
              "18         Thomas Kail   Lin-Manuel Miranda          Phillipa Soo   \n",
              "19        Bong Joon Ho         Kang-ho Song          Lee Sun-kyun   \n",
              "20       Sudha Kongara               Suriya              Madhavan   \n",
              "21   Christopher Nolan  Matthew McConaughey         Anne Hathaway   \n",
              "22  Fernando Meirelles           Kátia Lund   Alexandre Rodrigues   \n",
              "23      Hayao Miyazaki        Daveigh Chase     Suzanne Pleshette   \n",
              "\n",
              "               Star3                   Star4  No_of_Votes        Gross  \n",
              "2      Aaron Eckhart           Michael Caine      2303232  534,858,444  \n",
              "5       Ian McKellen           Orlando Bloom      1642758  377,845,905  \n",
              "8        Elliot Page            Ken Watanabe      2067042  292,576,195  \n",
              "10     Orlando Bloom               Sean Bean      1661481  315,544,750  \n",
              "13   Viggo Mortensen           Orlando Bloom      1485555  342,551,365  \n",
              "18   Leslie Odom Jr.  Renée Elise Goldsberry        55291          NaN  \n",
              "19     Cho Yeo-jeong            Choi Woo-sik       552778   53,367,844  \n",
              "20      Paresh Rawal       Aparna Balamurali        54995          NaN  \n",
              "21  Jessica Chastain           Mackenzie Foy      1512360  188,020,017  \n",
              "22   Leandro Firmino    Matheus Nachtergaele       699256    7,563,397  \n",
              "23        Miyu Irino            Rumi Hiiragi       651376   10,055,859  "
            ],
            "text/html": [
              "\n",
              "  <div id=\"df-a9e6a466-44d3-43a9-bedc-df49fc2e11e9\">\n",
              "    <div class=\"colab-df-container\">\n",
              "      <div>\n",
              "<style scoped>\n",
              "    .dataframe tbody tr th:only-of-type {\n",
              "        vertical-align: middle;\n",
              "    }\n",
              "\n",
              "    .dataframe tbody tr th {\n",
              "        vertical-align: top;\n",
              "    }\n",
              "\n",
              "    .dataframe thead th {\n",
              "        text-align: right;\n",
              "    }\n",
              "</style>\n",
              "<table border=\"1\" class=\"dataframe\">\n",
              "  <thead>\n",
              "    <tr style=\"text-align: right;\">\n",
              "      <th></th>\n",
              "      <th>Series_Title</th>\n",
              "      <th>Released_Year</th>\n",
              "      <th>Certificate</th>\n",
              "      <th>Runtime</th>\n",
              "      <th>Genre</th>\n",
              "      <th>IMDB_Rating</th>\n",
              "      <th>Overview</th>\n",
              "      <th>Meta_score</th>\n",
              "      <th>Director</th>\n",
              "      <th>Star1</th>\n",
              "      <th>Star2</th>\n",
              "      <th>Star3</th>\n",
              "      <th>Star4</th>\n",
              "      <th>No_of_Votes</th>\n",
              "      <th>Gross</th>\n",
              "    </tr>\n",
              "  </thead>\n",
              "  <tbody>\n",
              "    <tr>\n",
              "      <th>2</th>\n",
              "      <td>NaN</td>\n",
              "      <td>2008.0</td>\n",
              "      <td>NaN</td>\n",
              "      <td>152.0</td>\n",
              "      <td>Action, Crime, Drama</td>\n",
              "      <td>9.0</td>\n",
              "      <td>When the menace known as the Joker wreaks havo...</td>\n",
              "      <td>84.0</td>\n",
              "      <td>Christopher Nolan</td>\n",
              "      <td>Christian Bale</td>\n",
              "      <td>Heath Ledger</td>\n",
              "      <td>Aaron Eckhart</td>\n",
              "      <td>Michael Caine</td>\n",
              "      <td>2303232</td>\n",
              "      <td>534,858,444</td>\n",
              "    </tr>\n",
              "    <tr>\n",
              "      <th>5</th>\n",
              "      <td>NaN</td>\n",
              "      <td>2003.0</td>\n",
              "      <td>NaN</td>\n",
              "      <td>201.0</td>\n",
              "      <td>Action, Adventure, Drama</td>\n",
              "      <td>8.9</td>\n",
              "      <td>Gandalf and Aragorn lead the World of Men agai...</td>\n",
              "      <td>94.0</td>\n",
              "      <td>Peter Jackson</td>\n",
              "      <td>Elijah Wood</td>\n",
              "      <td>Viggo Mortensen</td>\n",
              "      <td>Ian McKellen</td>\n",
              "      <td>Orlando Bloom</td>\n",
              "      <td>1642758</td>\n",
              "      <td>377,845,905</td>\n",
              "    </tr>\n",
              "    <tr>\n",
              "      <th>8</th>\n",
              "      <td>NaN</td>\n",
              "      <td>2010.0</td>\n",
              "      <td>NaN</td>\n",
              "      <td>148.0</td>\n",
              "      <td>Action, Adventure, Sci-Fi</td>\n",
              "      <td>8.8</td>\n",
              "      <td>A thief who steals corporate secrets through t...</td>\n",
              "      <td>74.0</td>\n",
              "      <td>Christopher Nolan</td>\n",
              "      <td>Leonardo DiCaprio</td>\n",
              "      <td>Joseph Gordon-Levitt</td>\n",
              "      <td>Elliot Page</td>\n",
              "      <td>Ken Watanabe</td>\n",
              "      <td>2067042</td>\n",
              "      <td>292,576,195</td>\n",
              "    </tr>\n",
              "    <tr>\n",
              "      <th>10</th>\n",
              "      <td>NaN</td>\n",
              "      <td>2001.0</td>\n",
              "      <td>NaN</td>\n",
              "      <td>178.0</td>\n",
              "      <td>Action, Adventure, Drama</td>\n",
              "      <td>8.8</td>\n",
              "      <td>A meek Hobbit from the Shire and eight compani...</td>\n",
              "      <td>92.0</td>\n",
              "      <td>Peter Jackson</td>\n",
              "      <td>Elijah Wood</td>\n",
              "      <td>Ian McKellen</td>\n",
              "      <td>Orlando Bloom</td>\n",
              "      <td>Sean Bean</td>\n",
              "      <td>1661481</td>\n",
              "      <td>315,544,750</td>\n",
              "    </tr>\n",
              "    <tr>\n",
              "      <th>13</th>\n",
              "      <td>NaN</td>\n",
              "      <td>2002.0</td>\n",
              "      <td>NaN</td>\n",
              "      <td>179.0</td>\n",
              "      <td>Action, Adventure, Drama</td>\n",
              "      <td>8.7</td>\n",
              "      <td>While Frodo and Sam edge closer to Mordor with...</td>\n",
              "      <td>87.0</td>\n",
              "      <td>Peter Jackson</td>\n",
              "      <td>Elijah Wood</td>\n",
              "      <td>Ian McKellen</td>\n",
              "      <td>Viggo Mortensen</td>\n",
              "      <td>Orlando Bloom</td>\n",
              "      <td>1485555</td>\n",
              "      <td>342,551,365</td>\n",
              "    </tr>\n",
              "    <tr>\n",
              "      <th>18</th>\n",
              "      <td>NaN</td>\n",
              "      <td>2020.0</td>\n",
              "      <td>NaN</td>\n",
              "      <td>160.0</td>\n",
              "      <td>Biography, Drama, History</td>\n",
              "      <td>8.6</td>\n",
              "      <td>The real life of one of America's foremost fou...</td>\n",
              "      <td>90.0</td>\n",
              "      <td>Thomas Kail</td>\n",
              "      <td>Lin-Manuel Miranda</td>\n",
              "      <td>Phillipa Soo</td>\n",
              "      <td>Leslie Odom Jr.</td>\n",
              "      <td>Renée Elise Goldsberry</td>\n",
              "      <td>55291</td>\n",
              "      <td>NaN</td>\n",
              "    </tr>\n",
              "    <tr>\n",
              "      <th>19</th>\n",
              "      <td>NaN</td>\n",
              "      <td>2019.0</td>\n",
              "      <td>NaN</td>\n",
              "      <td>132.0</td>\n",
              "      <td>Comedy, Drama, Thriller</td>\n",
              "      <td>8.6</td>\n",
              "      <td>Greed and class discrimination threaten the ne...</td>\n",
              "      <td>96.0</td>\n",
              "      <td>Bong Joon Ho</td>\n",
              "      <td>Kang-ho Song</td>\n",
              "      <td>Lee Sun-kyun</td>\n",
              "      <td>Cho Yeo-jeong</td>\n",
              "      <td>Choi Woo-sik</td>\n",
              "      <td>552778</td>\n",
              "      <td>53,367,844</td>\n",
              "    </tr>\n",
              "    <tr>\n",
              "      <th>20</th>\n",
              "      <td>NaN</td>\n",
              "      <td>2020.0</td>\n",
              "      <td>NaN</td>\n",
              "      <td>153.0</td>\n",
              "      <td>Drama</td>\n",
              "      <td>8.6</td>\n",
              "      <td>Nedumaaran Rajangam \"Maara\" sets out to make t...</td>\n",
              "      <td>NaN</td>\n",
              "      <td>Sudha Kongara</td>\n",
              "      <td>Suriya</td>\n",
              "      <td>Madhavan</td>\n",
              "      <td>Paresh Rawal</td>\n",
              "      <td>Aparna Balamurali</td>\n",
              "      <td>54995</td>\n",
              "      <td>NaN</td>\n",
              "    </tr>\n",
              "    <tr>\n",
              "      <th>21</th>\n",
              "      <td>NaN</td>\n",
              "      <td>2014.0</td>\n",
              "      <td>NaN</td>\n",
              "      <td>169.0</td>\n",
              "      <td>Adventure, Drama, Sci-Fi</td>\n",
              "      <td>8.6</td>\n",
              "      <td>A team of explorers travel through a wormhole ...</td>\n",
              "      <td>74.0</td>\n",
              "      <td>Christopher Nolan</td>\n",
              "      <td>Matthew McConaughey</td>\n",
              "      <td>Anne Hathaway</td>\n",
              "      <td>Jessica Chastain</td>\n",
              "      <td>Mackenzie Foy</td>\n",
              "      <td>1512360</td>\n",
              "      <td>188,020,017</td>\n",
              "    </tr>\n",
              "    <tr>\n",
              "      <th>22</th>\n",
              "      <td>NaN</td>\n",
              "      <td>2002.0</td>\n",
              "      <td>NaN</td>\n",
              "      <td>130.0</td>\n",
              "      <td>Crime, Drama</td>\n",
              "      <td>8.6</td>\n",
              "      <td>In the slums of Rio, two kids' paths diverge a...</td>\n",
              "      <td>79.0</td>\n",
              "      <td>Fernando Meirelles</td>\n",
              "      <td>Kátia Lund</td>\n",
              "      <td>Alexandre Rodrigues</td>\n",
              "      <td>Leandro Firmino</td>\n",
              "      <td>Matheus Nachtergaele</td>\n",
              "      <td>699256</td>\n",
              "      <td>7,563,397</td>\n",
              "    </tr>\n",
              "    <tr>\n",
              "      <th>23</th>\n",
              "      <td>NaN</td>\n",
              "      <td>2001.0</td>\n",
              "      <td>NaN</td>\n",
              "      <td>125.0</td>\n",
              "      <td>Animation, Adventure, Family</td>\n",
              "      <td>8.6</td>\n",
              "      <td>During her family's move to the suburbs, a sul...</td>\n",
              "      <td>96.0</td>\n",
              "      <td>Hayao Miyazaki</td>\n",
              "      <td>Daveigh Chase</td>\n",
              "      <td>Suzanne Pleshette</td>\n",
              "      <td>Miyu Irino</td>\n",
              "      <td>Rumi Hiiragi</td>\n",
              "      <td>651376</td>\n",
              "      <td>10,055,859</td>\n",
              "    </tr>\n",
              "  </tbody>\n",
              "</table>\n",
              "</div>\n",
              "      <button class=\"colab-df-convert\" onclick=\"convertToInteractive('df-a9e6a466-44d3-43a9-bedc-df49fc2e11e9')\"\n",
              "              title=\"Convert this dataframe to an interactive table.\"\n",
              "              style=\"display:none;\">\n",
              "        \n",
              "  <svg xmlns=\"http://www.w3.org/2000/svg\" height=\"24px\"viewBox=\"0 0 24 24\"\n",
              "       width=\"24px\">\n",
              "    <path d=\"M0 0h24v24H0V0z\" fill=\"none\"/>\n",
              "    <path d=\"M18.56 5.44l.94 2.06.94-2.06 2.06-.94-2.06-.94-.94-2.06-.94 2.06-2.06.94zm-11 1L8.5 8.5l.94-2.06 2.06-.94-2.06-.94L8.5 2.5l-.94 2.06-2.06.94zm10 10l.94 2.06.94-2.06 2.06-.94-2.06-.94-.94-2.06-.94 2.06-2.06.94z\"/><path d=\"M17.41 7.96l-1.37-1.37c-.4-.4-.92-.59-1.43-.59-.52 0-1.04.2-1.43.59L10.3 9.45l-7.72 7.72c-.78.78-.78 2.05 0 2.83L4 21.41c.39.39.9.59 1.41.59.51 0 1.02-.2 1.41-.59l7.78-7.78 2.81-2.81c.8-.78.8-2.07 0-2.86zM5.41 20L4 18.59l7.72-7.72 1.47 1.35L5.41 20z\"/>\n",
              "  </svg>\n",
              "      </button>\n",
              "      \n",
              "  <style>\n",
              "    .colab-df-container {\n",
              "      display:flex;\n",
              "      flex-wrap:wrap;\n",
              "      gap: 12px;\n",
              "    }\n",
              "\n",
              "    .colab-df-convert {\n",
              "      background-color: #E8F0FE;\n",
              "      border: none;\n",
              "      border-radius: 50%;\n",
              "      cursor: pointer;\n",
              "      display: none;\n",
              "      fill: #1967D2;\n",
              "      height: 32px;\n",
              "      padding: 0 0 0 0;\n",
              "      width: 32px;\n",
              "    }\n",
              "\n",
              "    .colab-df-convert:hover {\n",
              "      background-color: #E2EBFA;\n",
              "      box-shadow: 0px 1px 2px rgba(60, 64, 67, 0.3), 0px 1px 3px 1px rgba(60, 64, 67, 0.15);\n",
              "      fill: #174EA6;\n",
              "    }\n",
              "\n",
              "    [theme=dark] .colab-df-convert {\n",
              "      background-color: #3B4455;\n",
              "      fill: #D2E3FC;\n",
              "    }\n",
              "\n",
              "    [theme=dark] .colab-df-convert:hover {\n",
              "      background-color: #434B5C;\n",
              "      box-shadow: 0px 1px 3px 1px rgba(0, 0, 0, 0.15);\n",
              "      filter: drop-shadow(0px 1px 2px rgba(0, 0, 0, 0.3));\n",
              "      fill: #FFFFFF;\n",
              "    }\n",
              "  </style>\n",
              "\n",
              "      <script>\n",
              "        const buttonEl =\n",
              "          document.querySelector('#df-a9e6a466-44d3-43a9-bedc-df49fc2e11e9 button.colab-df-convert');\n",
              "        buttonEl.style.display =\n",
              "          google.colab.kernel.accessAllowed ? 'block' : 'none';\n",
              "\n",
              "        async function convertToInteractive(key) {\n",
              "          const element = document.querySelector('#df-a9e6a466-44d3-43a9-bedc-df49fc2e11e9');\n",
              "          const dataTable =\n",
              "            await google.colab.kernel.invokeFunction('convertToInteractive',\n",
              "                                                     [key], {});\n",
              "          if (!dataTable) return;\n",
              "\n",
              "          const docLinkHtml = 'Like what you see? Visit the ' +\n",
              "            '<a target=\"_blank\" href=https://colab.research.google.com/notebooks/data_table.ipynb>data table notebook</a>'\n",
              "            + ' to learn more about interactive tables.';\n",
              "          element.innerHTML = '';\n",
              "          dataTable['output_type'] = 'display_data';\n",
              "          await google.colab.output.renderOutput(dataTable, element);\n",
              "          const docLink = document.createElement('div');\n",
              "          docLink.innerHTML = docLinkHtml;\n",
              "          element.appendChild(docLink);\n",
              "        }\n",
              "      </script>\n",
              "    </div>\n",
              "  </div>\n",
              "  "
            ]
          },
          "metadata": {},
          "execution_count": 34
        }
      ]
    },
    {
      "cell_type": "code",
      "source": [
        "len(X)"
      ],
      "metadata": {
        "id": "gBZ6r8hh_3LW",
        "outputId": "243824a3-5bc2-4efa-ad53-9a2b0067bdfd",
        "colab": {
          "base_uri": "https://localhost:8080/"
        }
      },
      "execution_count": 35,
      "outputs": [
        {
          "output_type": "execute_result",
          "data": {
            "text/plain": [
              "11"
            ]
          },
          "metadata": {},
          "execution_count": 35
        }
      ]
    },
    {
      "cell_type": "markdown",
      "source": [
        "We have 11 Movies which are released after year 2000 and have IMDB rating > 8.5."
      ],
      "metadata": {
        "id": "fbuHTBj4_5dV"
      }
    },
    {
      "cell_type": "markdown",
      "source": [
        "Using seaborn make different types of plots, observe the trend and answer the questions.\n",
        "6. Make a countplot of Movies directed by all directors."
      ],
      "metadata": {
        "id": "jYq9gv3aUl1u"
      }
    },
    {
      "cell_type": "code",
      "source": [
        "plt.figure(figsize=(8, 8))\n",
        "sns.countplot(x=df[\"Director\"],data = df)"
      ],
      "metadata": {
        "id": "WOYH5X29ViUR",
        "outputId": "69d0b86e-5354-4a37-a2da-e2b1144da10d",
        "colab": {
          "base_uri": "https://localhost:8080/",
          "height": 713
        }
      },
      "execution_count": 64,
      "outputs": [
        {
          "output_type": "execute_result",
          "data": {
            "text/plain": [
              "<Axes: xlabel='Director', ylabel='count'>"
            ]
          },
          "metadata": {},
          "execution_count": 64
        },
        {
          "output_type": "display_data",
          "data": {
            "text/plain": [
              "<Figure size 800x800 with 1 Axes>"
            ],
            "image/png": "[encoded data removed]"
          },
          "metadata": {}
        }
      ]
    },
    {
      "cell_type": "code",
      "source": [],
      "metadata": {
        "id": "TkSV6uB6G6Vq",
        "outputId": "dfd27327-e7fe-48a8-8bba-755c66edd6e0",
        "colab": {
          "base_uri": "https://localhost:8080/"
        }
      },
      "execution_count": 63,
      "outputs": [
        {
          "output_type": "execute_result",
          "data": {
            "text/plain": [
              "2"
            ]
          },
          "metadata": {},
          "execution_count": 63
        }
      ]
    },
    {
      "cell_type": "markdown",
      "source": [
        "7. Make a plot to analyze distribution of IMDB rating?"
      ],
      "metadata": {
        "id": "caUYiLeHVjIf"
      }
    },
    {
      "cell_type": "code",
      "source": [
        "sns.kdeplot(data = df, x = df.IMDB_Rating)"
      ],
      "metadata": {
        "id": "5uQrw1FXGMZO",
        "outputId": "05e06245-fb68-42b7-9a32-fc503ff6dcb1",
        "colab": {
          "base_uri": "https://localhost:8080/",
          "height": 467
        }
      },
      "execution_count": 61,
      "outputs": [
        {
          "output_type": "execute_result",
          "data": {
            "text/plain": [
              "<Axes: xlabel='IMDB_Rating', ylabel='Density'>"
            ]
          },
          "metadata": {},
          "execution_count": 61
        },
        {
          "output_type": "display_data",
          "data": {
            "text/plain": [
              "<Figure size 640x480 with 1 Axes>"
            ],
            "image/png": "[encoded data removed]"
          },
          "metadata": {}
        }
      ]
    },
    {
      "cell_type": "code",
      "source": [
        "df.IMDB_Rating.value_counts().sort_index().plot()"
      ],
      "metadata": {
        "id": "c12iHvlLV9PR",
        "outputId": "e35a7c2a-5973-429e-851d-378fb85c54ee",
        "colab": {
          "base_uri": "https://localhost:8080/",
          "height": 447
        }
      },
      "execution_count": 52,
      "outputs": [
        {
          "output_type": "execute_result",
          "data": {
            "text/plain": [
              "<Axes: >"
            ]
          },
          "metadata": {},
          "execution_count": 52
        },
        {
          "output_type": "display_data",
          "data": {
            "text/plain": [
              "<Figure size 640x480 with 1 Axes>"
            ],
            "image/png": "[encoded data removed]"
          },
          "metadata": {}
        }
      ]
    },
    {
      "cell_type": "markdown",
      "source": [
        "Positively Skewed."
      ],
      "metadata": {
        "id": "28Vj4_MmGCDe"
      }
    },
    {
      "cell_type": "markdown",
      "source": [
        "8. What type of Genre has the highest IMDB rating?"
      ],
      "metadata": {
        "id": "dXCoPuYlWISU"
      }
    },
    {
      "cell_type": "code",
      "source": [
        "df.IMDB_Rating.max()"
      ],
      "metadata": {
        "id": "2m9Mu58QBglM",
        "outputId": "020385ea-12d6-4431-bce9-c15b23cf0330",
        "colab": {
          "base_uri": "https://localhost:8080/"
        }
      },
      "execution_count": 43,
      "outputs": [
        {
          "output_type": "execute_result",
          "data": {
            "text/plain": [
              "9.3"
            ]
          },
          "metadata": {},
          "execution_count": 43
        }
      ]
    },
    {
      "cell_type": "code",
      "source": [
        "df[df.IMDB_Rating == 9.3]"
      ],
      "metadata": {
        "id": "0r9cKE7fWjBU",
        "outputId": "b70bb2cb-37b2-46a0-eb5d-e158b5b982b9",
        "colab": {
          "base_uri": "https://localhost:8080/",
          "height": 231
        }
      },
      "execution_count": 44,
      "outputs": [
        {
          "output_type": "execute_result",
          "data": {
            "text/plain": [
              "   Series_Title  Released_Year  Certificate  Runtime  Genre  IMDB_Rating  \\\n",
              "0           NaN         1994.0          NaN    142.0  Drama          9.3   \n",
              "\n",
              "                                            Overview  Meta_score  \\\n",
              "0  Two imprisoned men bond over a number of years...        80.0   \n",
              "\n",
              "         Director        Star1           Star2       Star3           Star4  \\\n",
              "0  Frank Darabont  Tim Robbins  Morgan Freeman  Bob Gunton  William Sadler   \n",
              "\n",
              "   No_of_Votes       Gross  \n",
              "0      2343110  28,341,469  "
            ],
            "text/html": [
              "\n",
              "  <div id=\"df-e3f0d924-32d1-4763-87b8-7ded33e7ebaf\">\n",
              "    <div class=\"colab-df-container\">\n",
              "      <div>\n",
              "<style scoped>\n",
              "    .dataframe tbody tr th:only-of-type {\n",
              "        vertical-align: middle;\n",
              "    }\n",
              "\n",
              "    .dataframe tbody tr th {\n",
              "        vertical-align: top;\n",
              "    }\n",
              "\n",
              "    .dataframe thead th {\n",
              "        text-align: right;\n",
              "    }\n",
              "</style>\n",
              "<table border=\"1\" class=\"dataframe\">\n",
              "  <thead>\n",
              "    <tr style=\"text-align: right;\">\n",
              "      <th></th>\n",
              "      <th>Series_Title</th>\n",
              "      <th>Released_Year</th>\n",
              "      <th>Certificate</th>\n",
              "      <th>Runtime</th>\n",
              "      <th>Genre</th>\n",
              "      <th>IMDB_Rating</th>\n",
              "      <th>Overview</th>\n",
              "      <th>Meta_score</th>\n",
              "      <th>Director</th>\n",
              "      <th>Star1</th>\n",
              "      <th>Star2</th>\n",
              "      <th>Star3</th>\n",
              "      <th>Star4</th>\n",
              "      <th>No_of_Votes</th>\n",
              "      <th>Gross</th>\n",
              "    </tr>\n",
              "  </thead>\n",
              "  <tbody>\n",
              "    <tr>\n",
              "      <th>0</th>\n",
              "      <td>NaN</td>\n",
              "      <td>1994.0</td>\n",
              "      <td>NaN</td>\n",
              "      <td>142.0</td>\n",
              "      <td>Drama</td>\n",
              "      <td>9.3</td>\n",
              "      <td>Two imprisoned men bond over a number of years...</td>\n",
              "      <td>80.0</td>\n",
              "      <td>Frank Darabont</td>\n",
              "      <td>Tim Robbins</td>\n",
              "      <td>Morgan Freeman</td>\n",
              "      <td>Bob Gunton</td>\n",
              "      <td>William Sadler</td>\n",
              "      <td>2343110</td>\n",
              "      <td>28,341,469</td>\n",
              "    </tr>\n",
              "  </tbody>\n",
              "</table>\n",
              "</div>\n",
              "      <button class=\"colab-df-convert\" onclick=\"convertToInteractive('df-e3f0d924-32d1-4763-87b8-7ded33e7ebaf')\"\n",
              "              title=\"Convert this dataframe to an interactive table.\"\n",
              "              style=\"display:none;\">\n",
              "        \n",
              "  <svg xmlns=\"http://www.w3.org/2000/svg\" height=\"24px\"viewBox=\"0 0 24 24\"\n",
              "       width=\"24px\">\n",
              "    <path d=\"M0 0h24v24H0V0z\" fill=\"none\"/>\n",
              "    <path d=\"M18.56 5.44l.94 2.06.94-2.06 2.06-.94-2.06-.94-.94-2.06-.94 2.06-2.06.94zm-11 1L8.5 8.5l.94-2.06 2.06-.94-2.06-.94L8.5 2.5l-.94 2.06-2.06.94zm10 10l.94 2.06.94-2.06 2.06-.94-2.06-.94-.94-2.06-.94 2.06-2.06.94z\"/><path d=\"M17.41 7.96l-1.37-1.37c-.4-.4-.92-.59-1.43-.59-.52 0-1.04.2-1.43.59L10.3 9.45l-7.72 7.72c-.78.78-.78 2.05 0 2.83L4 21.41c.39.39.9.59 1.41.59.51 0 1.02-.2 1.41-.59l7.78-7.78 2.81-2.81c.8-.78.8-2.07 0-2.86zM5.41 20L4 18.59l7.72-7.72 1.47 1.35L5.41 20z\"/>\n",
              "  </svg>\n",
              "      </button>\n",
              "      \n",
              "  <style>\n",
              "    .colab-df-container {\n",
              "      display:flex;\n",
              "      flex-wrap:wrap;\n",
              "      gap: 12px;\n",
              "    }\n",
              "\n",
              "    .colab-df-convert {\n",
              "      background-color: #E8F0FE;\n",
              "      border: none;\n",
              "      border-radius: 50%;\n",
              "      cursor: pointer;\n",
              "      display: none;\n",
              "      fill: #1967D2;\n",
              "      height: 32px;\n",
              "      padding: 0 0 0 0;\n",
              "      width: 32px;\n",
              "    }\n",
              "\n",
              "    .colab-df-convert:hover {\n",
              "      background-color: #E2EBFA;\n",
              "      box-shadow: 0px 1px 2px rgba(60, 64, 67, 0.3), 0px 1px 3px 1px rgba(60, 64, 67, 0.15);\n",
              "      fill: #174EA6;\n",
              "    }\n",
              "\n",
              "    [theme=dark] .colab-df-convert {\n",
              "      background-color: #3B4455;\n",
              "      fill: #D2E3FC;\n",
              "    }\n",
              "\n",
              "    [theme=dark] .colab-df-convert:hover {\n",
              "      background-color: #434B5C;\n",
              "      box-shadow: 0px 1px 3px 1px rgba(0, 0, 0, 0.15);\n",
              "      filter: drop-shadow(0px 1px 2px rgba(0, 0, 0, 0.3));\n",
              "      fill: #FFFFFF;\n",
              "    }\n",
              "  </style>\n",
              "\n",
              "      <script>\n",
              "        const buttonEl =\n",
              "          document.querySelector('#df-e3f0d924-32d1-4763-87b8-7ded33e7ebaf button.colab-df-convert');\n",
              "        buttonEl.style.display =\n",
              "          google.colab.kernel.accessAllowed ? 'block' : 'none';\n",
              "\n",
              "        async function convertToInteractive(key) {\n",
              "          const element = document.querySelector('#df-e3f0d924-32d1-4763-87b8-7ded33e7ebaf');\n",
              "          const dataTable =\n",
              "            await google.colab.kernel.invokeFunction('convertToInteractive',\n",
              "                                                     [key], {});\n",
              "          if (!dataTable) return;\n",
              "\n",
              "          const docLinkHtml = 'Like what you see? Visit the ' +\n",
              "            '<a target=\"_blank\" href=https://colab.research.google.com/notebooks/data_table.ipynb>data table notebook</a>'\n",
              "            + ' to learn more about interactive tables.';\n",
              "          element.innerHTML = '';\n",
              "          dataTable['output_type'] = 'display_data';\n",
              "          await google.colab.output.renderOutput(dataTable, element);\n",
              "          const docLink = document.createElement('div');\n",
              "          docLink.innerHTML = docLinkHtml;\n",
              "          element.appendChild(docLink);\n",
              "        }\n",
              "      </script>\n",
              "    </div>\n",
              "  </div>\n",
              "  "
            ]
          },
          "metadata": {},
          "execution_count": 44
        }
      ]
    },
    {
      "cell_type": "markdown",
      "source": [
        "ANSWER - DRAMA"
      ],
      "metadata": {
        "id": "KW4CIBE1Bp06"
      }
    },
    {
      "cell_type": "markdown",
      "source": [
        "9. Name the top 5 movies that have earned highest Meta score. "
      ],
      "metadata": {
        "id": "Ff2urhAhWrHO"
      }
    },
    {
      "cell_type": "code",
      "source": [
        "df.Meta_score.sort_values(ascending = False)"
      ],
      "metadata": {
        "id": "lta342_iWxLd",
        "outputId": "4d79fea6-cc01-4c0f-acfd-5630f006fed7",
        "colab": {
          "base_uri": "https://localhost:8080/"
        }
      },
      "execution_count": 47,
      "outputs": [
        {
          "output_type": "execute_result",
          "data": {
            "text/plain": [
              "440    100.0\n",
              "81     100.0\n",
              "50     100.0\n",
              "260    100.0\n",
              "559    100.0\n",
              "       ...  \n",
              "872      NaN\n",
              "874      NaN\n",
              "899      NaN\n",
              "909      NaN\n",
              "913      NaN\n",
              "Name: Meta_score, Length: 1000, dtype: float64"
            ]
          },
          "metadata": {},
          "execution_count": 47
        }
      ]
    },
    {
      "cell_type": "code",
      "source": [
        "df[df.Meta_score == 100].head()"
      ],
      "metadata": {
        "id": "GY_X_2poCFMM",
        "outputId": "f4786eed-132d-4bad-ca22-b93651169968",
        "colab": {
          "base_uri": "https://localhost:8080/",
          "height": 652
        }
      },
      "execution_count": 49,
      "outputs": [
        {
          "output_type": "execute_result",
          "data": {
            "text/plain": [
              "     Series_Title  Released_Year  Certificate  Runtime  \\\n",
              "1             NaN         1972.0          NaN    175.0   \n",
              "50            NaN         1942.0          NaN    102.0   \n",
              "81            NaN         1954.0          NaN    112.0   \n",
              "116           NaN         1962.0          NaN    228.0   \n",
              "119           NaN         1958.0          NaN    128.0   \n",
              "\n",
              "                           Genre  IMDB_Rating  \\\n",
              "1                   Crime, Drama          9.2   \n",
              "50           Drama, Romance, War          8.5   \n",
              "81             Mystery, Thriller          8.4   \n",
              "116  Adventure, Biography, Drama          8.3   \n",
              "119   Mystery, Romance, Thriller          8.3   \n",
              "\n",
              "                                              Overview  Meta_score  \\\n",
              "1    An organized crime dynasty's aging patriarch t...       100.0   \n",
              "50   A cynical expatriate American cafe owner strug...       100.0   \n",
              "81   A wheelchair-bound photographer spies on his n...       100.0   \n",
              "116  The story of T.E. Lawrence, the English office...       100.0   \n",
              "119  A former police detective juggles wrestling wi...       100.0   \n",
              "\n",
              "                 Director            Star1           Star2  \\\n",
              "1    Francis Ford Coppola    Marlon Brando       Al Pacino   \n",
              "50         Michael Curtiz  Humphrey Bogart  Ingrid Bergman   \n",
              "81       Alfred Hitchcock    James Stewart     Grace Kelly   \n",
              "116            David Lean    Peter O'Toole   Alec Guinness   \n",
              "119      Alfred Hitchcock    James Stewart       Kim Novak   \n",
              "\n",
              "                  Star3          Star4  No_of_Votes        Gross  \n",
              "1            James Caan   Diane Keaton      1620367  134,966,411  \n",
              "50         Paul Henreid   Claude Rains       522093    1,024,560  \n",
              "81        Wendell Corey  Thelma Ritter       444074   36,764,313  \n",
              "116       Anthony Quinn   Jack Hawkins       268085   44,824,144  \n",
              "119  Barbara Bel Geddes    Tom Helmore       364368    3,200,000  "
            ],
            "text/html": [
              "\n",
              "  <div id=\"df-e31c99bb-8559-4f69-b77b-3c7ba1f87df1\">\n",
              "    <div class=\"colab-df-container\">\n",
              "      <div>\n",
              "<style scoped>\n",
              "    .dataframe tbody tr th:only-of-type {\n",
              "        vertical-align: middle;\n",
              "    }\n",
              "\n",
              "    .dataframe tbody tr th {\n",
              "        vertical-align: top;\n",
              "    }\n",
              "\n",
              "    .dataframe thead th {\n",
              "        text-align: right;\n",
              "    }\n",
              "</style>\n",
              "<table border=\"1\" class=\"dataframe\">\n",
              "  <thead>\n",
              "    <tr style=\"text-align: right;\">\n",
              "      <th></th>\n",
              "      <th>Series_Title</th>\n",
              "      <th>Released_Year</th>\n",
              "      <th>Certificate</th>\n",
              "      <th>Runtime</th>\n",
              "      <th>Genre</th>\n",
              "      <th>IMDB_Rating</th>\n",
              "      <th>Overview</th>\n",
              "      <th>Meta_score</th>\n",
              "      <th>Director</th>\n",
              "      <th>Star1</th>\n",
              "      <th>Star2</th>\n",
              "      <th>Star3</th>\n",
              "      <th>Star4</th>\n",
              "      <th>No_of_Votes</th>\n",
              "      <th>Gross</th>\n",
              "    </tr>\n",
              "  </thead>\n",
              "  <tbody>\n",
              "    <tr>\n",
              "      <th>1</th>\n",
              "      <td>NaN</td>\n",
              "      <td>1972.0</td>\n",
              "      <td>NaN</td>\n",
              "      <td>175.0</td>\n",
              "      <td>Crime, Drama</td>\n",
              "      <td>9.2</td>\n",
              "      <td>An organized crime dynasty's aging patriarch t...</td>\n",
              "      <td>100.0</td>\n",
              "      <td>Francis Ford Coppola</td>\n",
              "      <td>Marlon Brando</td>\n",
              "      <td>Al Pacino</td>\n",
              "      <td>James Caan</td>\n",
              "      <td>Diane Keaton</td>\n",
              "      <td>1620367</td>\n",
              "      <td>134,966,411</td>\n",
              "    </tr>\n",
              "    <tr>\n",
              "      <th>50</th>\n",
              "      <td>NaN</td>\n",
              "      <td>1942.0</td>\n",
              "      <td>NaN</td>\n",
              "      <td>102.0</td>\n",
              "      <td>Drama, Romance, War</td>\n",
              "      <td>8.5</td>\n",
              "      <td>A cynical expatriate American cafe owner strug...</td>\n",
              "      <td>100.0</td>\n",
              "      <td>Michael Curtiz</td>\n",
              "      <td>Humphrey Bogart</td>\n",
              "      <td>Ingrid Bergman</td>\n",
              "      <td>Paul Henreid</td>\n",
              "      <td>Claude Rains</td>\n",
              "      <td>522093</td>\n",
              "      <td>1,024,560</td>\n",
              "    </tr>\n",
              "    <tr>\n",
              "      <th>81</th>\n",
              "      <td>NaN</td>\n",
              "      <td>1954.0</td>\n",
              "      <td>NaN</td>\n",
              "      <td>112.0</td>\n",
              "      <td>Mystery, Thriller</td>\n",
              "      <td>8.4</td>\n",
              "      <td>A wheelchair-bound photographer spies on his n...</td>\n",
              "      <td>100.0</td>\n",
              "      <td>Alfred Hitchcock</td>\n",
              "      <td>James Stewart</td>\n",
              "      <td>Grace Kelly</td>\n",
              "      <td>Wendell Corey</td>\n",
              "      <td>Thelma Ritter</td>\n",
              "      <td>444074</td>\n",
              "      <td>36,764,313</td>\n",
              "    </tr>\n",
              "    <tr>\n",
              "      <th>116</th>\n",
              "      <td>NaN</td>\n",
              "      <td>1962.0</td>\n",
              "      <td>NaN</td>\n",
              "      <td>228.0</td>\n",
              "      <td>Adventure, Biography, Drama</td>\n",
              "      <td>8.3</td>\n",
              "      <td>The story of T.E. Lawrence, the English office...</td>\n",
              "      <td>100.0</td>\n",
              "      <td>David Lean</td>\n",
              "      <td>Peter O'Toole</td>\n",
              "      <td>Alec Guinness</td>\n",
              "      <td>Anthony Quinn</td>\n",
              "      <td>Jack Hawkins</td>\n",
              "      <td>268085</td>\n",
              "      <td>44,824,144</td>\n",
              "    </tr>\n",
              "    <tr>\n",
              "      <th>119</th>\n",
              "      <td>NaN</td>\n",
              "      <td>1958.0</td>\n",
              "      <td>NaN</td>\n",
              "      <td>128.0</td>\n",
              "      <td>Mystery, Romance, Thriller</td>\n",
              "      <td>8.3</td>\n",
              "      <td>A former police detective juggles wrestling wi...</td>\n",
              "      <td>100.0</td>\n",
              "      <td>Alfred Hitchcock</td>\n",
              "      <td>James Stewart</td>\n",
              "      <td>Kim Novak</td>\n",
              "      <td>Barbara Bel Geddes</td>\n",
              "      <td>Tom Helmore</td>\n",
              "      <td>364368</td>\n",
              "      <td>3,200,000</td>\n",
              "    </tr>\n",
              "  </tbody>\n",
              "</table>\n",
              "</div>\n",
              "      <button class=\"colab-df-convert\" onclick=\"convertToInteractive('df-e31c99bb-8559-4f69-b77b-3c7ba1f87df1')\"\n",
              "              title=\"Convert this dataframe to an interactive table.\"\n",
              "              style=\"display:none;\">\n",
              "        \n",
              "  <svg xmlns=\"http://www.w3.org/2000/svg\" height=\"24px\"viewBox=\"0 0 24 24\"\n",
              "       width=\"24px\">\n",
              "    <path d=\"M0 0h24v24H0V0z\" fill=\"none\"/>\n",
              "    <path d=\"M18.56 5.44l.94 2.06.94-2.06 2.06-.94-2.06-.94-.94-2.06-.94 2.06-2.06.94zm-11 1L8.5 8.5l.94-2.06 2.06-.94-2.06-.94L8.5 2.5l-.94 2.06-2.06.94zm10 10l.94 2.06.94-2.06 2.06-.94-2.06-.94-.94-2.06-.94 2.06-2.06.94z\"/><path d=\"M17.41 7.96l-1.37-1.37c-.4-.4-.92-.59-1.43-.59-.52 0-1.04.2-1.43.59L10.3 9.45l-7.72 7.72c-.78.78-.78 2.05 0 2.83L4 21.41c.39.39.9.59 1.41.59.51 0 1.02-.2 1.41-.59l7.78-7.78 2.81-2.81c.8-.78.8-2.07 0-2.86zM5.41 20L4 18.59l7.72-7.72 1.47 1.35L5.41 20z\"/>\n",
              "  </svg>\n",
              "      </button>\n",
              "      \n",
              "  <style>\n",
              "    .colab-df-container {\n",
              "      display:flex;\n",
              "      flex-wrap:wrap;\n",
              "      gap: 12px;\n",
              "    }\n",
              "\n",
              "    .colab-df-convert {\n",
              "      background-color: #E8F0FE;\n",
              "      border: none;\n",
              "      border-radius: 50%;\n",
              "      cursor: pointer;\n",
              "      display: none;\n",
              "      fill: #1967D2;\n",
              "      height: 32px;\n",
              "      padding: 0 0 0 0;\n",
              "      width: 32px;\n",
              "    }\n",
              "\n",
              "    .colab-df-convert:hover {\n",
              "      background-color: #E2EBFA;\n",
              "      box-shadow: 0px 1px 2px rgba(60, 64, 67, 0.3), 0px 1px 3px 1px rgba(60, 64, 67, 0.15);\n",
              "      fill: #174EA6;\n",
              "    }\n",
              "\n",
              "    [theme=dark] .colab-df-convert {\n",
              "      background-color: #3B4455;\n",
              "      fill: #D2E3FC;\n",
              "    }\n",
              "\n",
              "    [theme=dark] .colab-df-convert:hover {\n",
              "      background-color: #434B5C;\n",
              "      box-shadow: 0px 1px 3px 1px rgba(0, 0, 0, 0.15);\n",
              "      filter: drop-shadow(0px 1px 2px rgba(0, 0, 0, 0.3));\n",
              "      fill: #FFFFFF;\n",
              "    }\n",
              "  </style>\n",
              "\n",
              "      <script>\n",
              "        const buttonEl =\n",
              "          document.querySelector('#df-e31c99bb-8559-4f69-b77b-3c7ba1f87df1 button.colab-df-convert');\n",
              "        buttonEl.style.display =\n",
              "          google.colab.kernel.accessAllowed ? 'block' : 'none';\n",
              "\n",
              "        async function convertToInteractive(key) {\n",
              "          const element = document.querySelector('#df-e31c99bb-8559-4f69-b77b-3c7ba1f87df1');\n",
              "          const dataTable =\n",
              "            await google.colab.kernel.invokeFunction('convertToInteractive',\n",
              "                                                     [key], {});\n",
              "          if (!dataTable) return;\n",
              "\n",
              "          const docLinkHtml = 'Like what you see? Visit the ' +\n",
              "            '<a target=\"_blank\" href=https://colab.research.google.com/notebooks/data_table.ipynb>data table notebook</a>'\n",
              "            + ' to learn more about interactive tables.';\n",
              "          element.innerHTML = '';\n",
              "          dataTable['output_type'] = 'display_data';\n",
              "          await google.colab.output.renderOutput(dataTable, element);\n",
              "          const docLink = document.createElement('div');\n",
              "          docLink.innerHTML = docLinkHtml;\n",
              "          element.appendChild(docLink);\n",
              "        }\n",
              "      </script>\n",
              "    </div>\n",
              "  </div>\n",
              "  "
            ]
          },
          "metadata": {},
          "execution_count": 49
        }
      ]
    },
    {
      "cell_type": "markdown",
      "source": [
        "10. Of which Genre movie has the highest Runtime?"
      ],
      "metadata": {
        "id": "FPmZIOiwW5Jo"
      }
    },
    {
      "cell_type": "code",
      "source": [
        "df.Runtime.max()"
      ],
      "metadata": {
        "id": "R5a1FemoXJuo",
        "outputId": "1fcfdd72-643a-428b-e272-142a32ef704a",
        "colab": {
          "base_uri": "https://localhost:8080/"
        }
      },
      "execution_count": 50,
      "outputs": [
        {
          "output_type": "execute_result",
          "data": {
            "text/plain": [
              "321.0"
            ]
          },
          "metadata": {},
          "execution_count": 50
        }
      ]
    },
    {
      "cell_type": "code",
      "source": [
        "df[df.Runtime == 321]"
      ],
      "metadata": {
        "id": "IZhKKd5OCcdp",
        "outputId": "5740392f-abac-4328-8e7c-b3fcb38feb71",
        "colab": {
          "base_uri": "https://localhost:8080/",
          "height": 249
        }
      },
      "execution_count": 51,
      "outputs": [
        {
          "output_type": "execute_result",
          "data": {
            "text/plain": [
              "     Series_Title  Released_Year  Certificate  Runtime                  Genre  \\\n",
              "140           NaN         2012.0          NaN    321.0  Action, Comedy, Crime   \n",
              "\n",
              "     IMDB_Rating                                           Overview  \\\n",
              "140          8.2  A clash between Sultan and Shahid Khan leads t...   \n",
              "\n",
              "     Meta_score        Director           Star1         Star2  \\\n",
              "140        89.0  Anurag Kashyap  Manoj Bajpayee  Richa Chadha   \n",
              "\n",
              "                   Star3             Star4  No_of_Votes Gross  \n",
              "140  Nawazuddin Siddiqui  Tigmanshu Dhulia        82365   NaN  "
            ],
            "text/html": [
              "\n",
              "  <div id=\"df-fe415c9d-ea6d-4664-b328-fcf07266f62f\">\n",
              "    <div class=\"colab-df-container\">\n",
              "      <div>\n",
              "<style scoped>\n",
              "    .dataframe tbody tr th:only-of-type {\n",
              "        vertical-align: middle;\n",
              "    }\n",
              "\n",
              "    .dataframe tbody tr th {\n",
              "        vertical-align: top;\n",
              "    }\n",
              "\n",
              "    .dataframe thead th {\n",
              "        text-align: right;\n",
              "    }\n",
              "</style>\n",
              "<table border=\"1\" class=\"dataframe\">\n",
              "  <thead>\n",
              "    <tr style=\"text-align: right;\">\n",
              "      <th></th>\n",
              "      <th>Series_Title</th>\n",
              "      <th>Released_Year</th>\n",
              "      <th>Certificate</th>\n",
              "      <th>Runtime</th>\n",
              "      <th>Genre</th>\n",
              "      <th>IMDB_Rating</th>\n",
              "      <th>Overview</th>\n",
              "      <th>Meta_score</th>\n",
              "      <th>Director</th>\n",
              "      <th>Star1</th>\n",
              "      <th>Star2</th>\n",
              "      <th>Star3</th>\n",
              "      <th>Star4</th>\n",
              "      <th>No_of_Votes</th>\n",
              "      <th>Gross</th>\n",
              "    </tr>\n",
              "  </thead>\n",
              "  <tbody>\n",
              "    <tr>\n",
              "      <th>140</th>\n",
              "      <td>NaN</td>\n",
              "      <td>2012.0</td>\n",
              "      <td>NaN</td>\n",
              "      <td>321.0</td>\n",
              "      <td>Action, Comedy, Crime</td>\n",
              "      <td>8.2</td>\n",
              "      <td>A clash between Sultan and Shahid Khan leads t...</td>\n",
              "      <td>89.0</td>\n",
              "      <td>Anurag Kashyap</td>\n",
              "      <td>Manoj Bajpayee</td>\n",
              "      <td>Richa Chadha</td>\n",
              "      <td>Nawazuddin Siddiqui</td>\n",
              "      <td>Tigmanshu Dhulia</td>\n",
              "      <td>82365</td>\n",
              "      <td>NaN</td>\n",
              "    </tr>\n",
              "  </tbody>\n",
              "</table>\n",
              "</div>\n",
              "      <button class=\"colab-df-convert\" onclick=\"convertToInteractive('df-fe415c9d-ea6d-4664-b328-fcf07266f62f')\"\n",
              "              title=\"Convert this dataframe to an interactive table.\"\n",
              "              style=\"display:none;\">\n",
              "        \n",
              "  <svg xmlns=\"http://www.w3.org/2000/svg\" height=\"24px\"viewBox=\"0 0 24 24\"\n",
              "       width=\"24px\">\n",
              "    <path d=\"M0 0h24v24H0V0z\" fill=\"none\"/>\n",
              "    <path d=\"M18.56 5.44l.94 2.06.94-2.06 2.06-.94-2.06-.94-.94-2.06-.94 2.06-2.06.94zm-11 1L8.5 8.5l.94-2.06 2.06-.94-2.06-.94L8.5 2.5l-.94 2.06-2.06.94zm10 10l.94 2.06.94-2.06 2.06-.94-2.06-.94-.94-2.06-.94 2.06-2.06.94z\"/><path d=\"M17.41 7.96l-1.37-1.37c-.4-.4-.92-.59-1.43-.59-.52 0-1.04.2-1.43.59L10.3 9.45l-7.72 7.72c-.78.78-.78 2.05 0 2.83L4 21.41c.39.39.9.59 1.41.59.51 0 1.02-.2 1.41-.59l7.78-7.78 2.81-2.81c.8-.78.8-2.07 0-2.86zM5.41 20L4 18.59l7.72-7.72 1.47 1.35L5.41 20z\"/>\n",
              "  </svg>\n",
              "      </button>\n",
              "      \n",
              "  <style>\n",
              "    .colab-df-container {\n",
              "      display:flex;\n",
              "      flex-wrap:wrap;\n",
              "      gap: 12px;\n",
              "    }\n",
              "\n",
              "    .colab-df-convert {\n",
              "      background-color: #E8F0FE;\n",
              "      border: none;\n",
              "      border-radius: 50%;\n",
              "      cursor: pointer;\n",
              "      display: none;\n",
              "      fill: #1967D2;\n",
              "      height: 32px;\n",
              "      padding: 0 0 0 0;\n",
              "      width: 32px;\n",
              "    }\n",
              "\n",
              "    .colab-df-convert:hover {\n",
              "      background-color: #E2EBFA;\n",
              "      box-shadow: 0px 1px 2px rgba(60, 64, 67, 0.3), 0px 1px 3px 1px rgba(60, 64, 67, 0.15);\n",
              "      fill: #174EA6;\n",
              "    }\n",
              "\n",
              "    [theme=dark] .colab-df-convert {\n",
              "      background-color: #3B4455;\n",
              "      fill: #D2E3FC;\n",
              "    }\n",
              "\n",
              "    [theme=dark] .colab-df-convert:hover {\n",
              "      background-color: #434B5C;\n",
              "      box-shadow: 0px 1px 3px 1px rgba(0, 0, 0, 0.15);\n",
              "      filter: drop-shadow(0px 1px 2px rgba(0, 0, 0, 0.3));\n",
              "      fill: #FFFFFF;\n",
              "    }\n",
              "  </style>\n",
              "\n",
              "      <script>\n",
              "        const buttonEl =\n",
              "          document.querySelector('#df-fe415c9d-ea6d-4664-b328-fcf07266f62f button.colab-df-convert');\n",
              "        buttonEl.style.display =\n",
              "          google.colab.kernel.accessAllowed ? 'block' : 'none';\n",
              "\n",
              "        async function convertToInteractive(key) {\n",
              "          const element = document.querySelector('#df-fe415c9d-ea6d-4664-b328-fcf07266f62f');\n",
              "          const dataTable =\n",
              "            await google.colab.kernel.invokeFunction('convertToInteractive',\n",
              "                                                     [key], {});\n",
              "          if (!dataTable) return;\n",
              "\n",
              "          const docLinkHtml = 'Like what you see? Visit the ' +\n",
              "            '<a target=\"_blank\" href=https://colab.research.google.com/notebooks/data_table.ipynb>data table notebook</a>'\n",
              "            + ' to learn more about interactive tables.';\n",
              "          element.innerHTML = '';\n",
              "          dataTable['output_type'] = 'display_data';\n",
              "          await google.colab.output.renderOutput(dataTable, element);\n",
              "          const docLink = document.createElement('div');\n",
              "          docLink.innerHTML = docLinkHtml;\n",
              "          element.appendChild(docLink);\n",
              "        }\n",
              "      </script>\n",
              "    </div>\n",
              "  </div>\n",
              "  "
            ]
          },
          "metadata": {},
          "execution_count": 51
        }
      ]
    },
    {
      "cell_type": "markdown",
      "source": [
        "ANSWER - Action, Comedy and Crime."
      ],
      "metadata": {
        "id": "m7pJzXKqClVy"
      }
    },
    {
      "cell_type": "code",
      "source": [],
      "metadata": {
        "id": "4oo0mWZKCiOb"
      },
      "execution_count": null,
      "outputs": []
    }
  ]
}