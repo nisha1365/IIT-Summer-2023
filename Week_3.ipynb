{
  "cells": [
    {
      "cell_type": "markdown",
      "metadata": {
        "id": "view-in-github",
        "colab_type": "text"
      },
      "source": [
        "<a href=\"https://colab.research.google.com/github/nisha1365/IIT-Summer-2023/blob/main/Week_3.ipynb\" target=\"_parent\"><img src=\"https://colab.research.google.com/assets/colab-badge.svg\" alt=\"Open In Colab\"/></a>"
      ]
    },
    {
      "cell_type": "markdown",
      "source": [
        "# Week 3 SA"
      ],
      "metadata": {
        "datalore": {
          "node_id": "zGa7mCHaDDruHtkm7dEPtv",
          "type": "MD",
          "hide_input_from_viewers": true,
          "hide_output_from_viewers": true
        },
        "id": "lmXIcWKWphjm"
      }
    },
    {
      "cell_type": "markdown",
      "source": [
        "Hey Everyone!! \n",
        "We hope that you are excited to apply your newly acquired knowledge and test it on this notebook.\n",
        "In this assignment, we will be walking through creating an email classifier based the content the mail has."
      ],
      "metadata": {
        "datalore": {
          "node_id": "U1ZcRPN3LUr8T0AFox9HNj",
          "type": "MD",
          "hide_input_from_viewers": true,
          "hide_output_from_viewers": true
        },
        "id": "IRLpgA27phjs"
      }
    },
    {
      "cell_type": "markdown",
      "source": [
        "## About the data"
      ],
      "metadata": {
        "datalore": {
          "node_id": "z4auZFCdOYmoX3bMIniLkV",
          "type": "MD",
          "hide_input_from_viewers": true,
          "hide_output_from_viewers": true
        },
        "id": "M4UxFBvvphjt"
      }
    },
    {
      "cell_type": "markdown",
      "source": [
        "The data \"email.csv\" has a few rows and about 3K columns including <b>Email_no.</b> and <b>spam</b>. <br>\n",
        "Email_no. is like a unique id for an email and spam denotes whether the given mail is a spam or not (0 = not spam, 1 = spam)<br>\n",
        "Rest of the columns are words in english with the values being equal to the frequency of that word in the email.\n",
        "<br>Our goal is to predict whether the given mail is spam or not"
      ],
      "metadata": {
        "datalore": {
          "node_id": "oqqW6dUiQklEDKoCWXWv5O",
          "type": "MD",
          "hide_input_from_viewers": true,
          "hide_output_from_viewers": true
        },
        "id": "JOSs4HYNphju"
      }
    },
    {
      "cell_type": "markdown",
      "source": [
        "## Importing useful libraries"
      ],
      "metadata": {
        "datalore": {
          "node_id": "JAyWVZVGuGxuIiAHDsq61b",
          "type": "MD",
          "hide_input_from_viewers": true,
          "hide_output_from_viewers": true
        },
        "id": "6lFcQHrfphjv"
      }
    },
    {
      "cell_type": "code",
      "source": [
        "import pandas as pd\n",
        "import numpy as np"
      ],
      "execution_count": 1,
      "outputs": [],
      "metadata": {
        "datalore": {
          "node_id": "MGF6Kw4xf8SePOYMc0lIF1",
          "type": "CODE",
          "hide_input_from_viewers": true,
          "hide_output_from_viewers": true
        },
        "id": "QqrUb1yGphjv"
      }
    },
    {
      "cell_type": "markdown",
      "source": [
        "## Loading the data\n",
        "### If you are using Datalore, you may use the csv file directly. Otherwise you may download it from <a href = \"https://drive.google.com/file/d/1OxJ6SSuPypg-AfLbMRl0O9So9aDDNzbC/view?usp=sharing\">this link</a>"
      ],
      "metadata": {
        "datalore": {
          "node_id": "8QlDKKKCWpgnkoXHPYswvd",
          "type": "MD",
          "hide_input_from_viewers": true,
          "hide_output_from_viewers": true
        },
        "id": "dByvVME4phjx"
      }
    },
    {
      "cell_type": "code",
      "source": [
        "df = pd.read_csv('/content/emails.csv')"
      ],
      "execution_count": 3,
      "outputs": [],
      "metadata": {
        "datalore": {
          "node_id": "awQRzUu3t4PZmOtlTbPn44",
          "type": "CODE",
          "hide_input_from_viewers": true,
          "hide_output_from_viewers": true
        },
        "id": "blfN9Pibphjy"
      }
    },
    {
      "cell_type": "markdown",
      "source": [
        "## Describe the data and generate some basic insights unsing methods like .info"
      ],
      "metadata": {
        "datalore": {
          "node_id": "ex2R3oVXRwyZaziX9HkcGp",
          "type": "MD",
          "hide_input_from_viewers": true,
          "hide_output_from_viewers": true
        },
        "id": "zEo_n-oHphjy"
      }
    },
    {
      "cell_type": "code",
      "source": [
        "df.head()"
      ],
      "execution_count": 4,
      "outputs": [
        {
          "output_type": "execute_result",
          "data": {
            "text/plain": [
              "  Email No.  the  to  ect  and  for  of    a  you  hou  ...  connevey  jay  \\\n",
              "0   Email 1    0   0    1    0    0   0    2    0    0  ...         0    0   \n",
              "1   Email 2    8  13   24    6    6   2  102    1   27  ...         0    0   \n",
              "2   Email 3    0   0    1    0    0   0    8    0    0  ...         0    0   \n",
              "3   Email 4    0   5   22    0    5   1   51    2   10  ...         0    0   \n",
              "4   Email 5    7   6   17    1    5   2   57    0    9  ...         0    0   \n",
              "\n",
              "   valued  lay  infrastructure  military  allowing  ff  dry  Prediction  \n",
              "0       0    0               0         0         0   0    0           0  \n",
              "1       0    0               0         0         0   1    0           0  \n",
              "2       0    0               0         0         0   0    0           0  \n",
              "3       0    0               0         0         0   0    0           0  \n",
              "4       0    0               0         0         0   1    0           0  \n",
              "\n",
              "[5 rows x 3002 columns]"
            ],
            "text/html": [
              "\n",
              "  <div id=\"df-5da5c514-c1d3-40ab-981a-ab3f40ecf1e7\">\n",
              "    <div class=\"colab-df-container\">\n",
              "      <div>\n",
              "<style scoped>\n",
              "    .dataframe tbody tr th:only-of-type {\n",
              "        vertical-align: middle;\n",
              "    }\n",
              "\n",
              "    .dataframe tbody tr th {\n",
              "        vertical-align: top;\n",
              "    }\n",
              "\n",
              "    .dataframe thead th {\n",
              "        text-align: right;\n",
              "    }\n",
              "</style>\n",
              "<table border=\"1\" class=\"dataframe\">\n",
              "  <thead>\n",
              "    <tr style=\"text-align: right;\">\n",
              "      <th></th>\n",
              "      <th>Email No.</th>\n",
              "      <th>the</th>\n",
              "      <th>to</th>\n",
              "      <th>ect</th>\n",
              "      <th>and</th>\n",
              "      <th>for</th>\n",
              "      <th>of</th>\n",
              "      <th>a</th>\n",
              "      <th>you</th>\n",
              "      <th>hou</th>\n",
              "      <th>...</th>\n",
              "      <th>connevey</th>\n",
              "      <th>jay</th>\n",
              "      <th>valued</th>\n",
              "      <th>lay</th>\n",
              "      <th>infrastructure</th>\n",
              "      <th>military</th>\n",
              "      <th>allowing</th>\n",
              "      <th>ff</th>\n",
              "      <th>dry</th>\n",
              "      <th>Prediction</th>\n",
              "    </tr>\n",
              "  </thead>\n",
              "  <tbody>\n",
              "    <tr>\n",
              "      <th>0</th>\n",
              "      <td>Email 1</td>\n",
              "      <td>0</td>\n",
              "      <td>0</td>\n",
              "      <td>1</td>\n",
              "      <td>0</td>\n",
              "      <td>0</td>\n",
              "      <td>0</td>\n",
              "      <td>2</td>\n",
              "      <td>0</td>\n",
              "      <td>0</td>\n",
              "      <td>...</td>\n",
              "      <td>0</td>\n",
              "      <td>0</td>\n",
              "      <td>0</td>\n",
              "      <td>0</td>\n",
              "      <td>0</td>\n",
              "      <td>0</td>\n",
              "      <td>0</td>\n",
              "      <td>0</td>\n",
              "      <td>0</td>\n",
              "      <td>0</td>\n",
              "    </tr>\n",
              "    <tr>\n",
              "      <th>1</th>\n",
              "      <td>Email 2</td>\n",
              "      <td>8</td>\n",
              "      <td>13</td>\n",
              "      <td>24</td>\n",
              "      <td>6</td>\n",
              "      <td>6</td>\n",
              "      <td>2</td>\n",
              "      <td>102</td>\n",
              "      <td>1</td>\n",
              "      <td>27</td>\n",
              "      <td>...</td>\n",
              "      <td>0</td>\n",
              "      <td>0</td>\n",
              "      <td>0</td>\n",
              "      <td>0</td>\n",
              "      <td>0</td>\n",
              "      <td>0</td>\n",
              "      <td>0</td>\n",
              "      <td>1</td>\n",
              "      <td>0</td>\n",
              "      <td>0</td>\n",
              "    </tr>\n",
              "    <tr>\n",
              "      <th>2</th>\n",
              "      <td>Email 3</td>\n",
              "      <td>0</td>\n",
              "      <td>0</td>\n",
              "      <td>1</td>\n",
              "      <td>0</td>\n",
              "      <td>0</td>\n",
              "      <td>0</td>\n",
              "      <td>8</td>\n",
              "      <td>0</td>\n",
              "      <td>0</td>\n",
              "      <td>...</td>\n",
              "      <td>0</td>\n",
              "      <td>0</td>\n",
              "      <td>0</td>\n",
              "      <td>0</td>\n",
              "      <td>0</td>\n",
              "      <td>0</td>\n",
              "      <td>0</td>\n",
              "      <td>0</td>\n",
              "      <td>0</td>\n",
              "      <td>0</td>\n",
              "    </tr>\n",
              "    <tr>\n",
              "      <th>3</th>\n",
              "      <td>Email 4</td>\n",
              "      <td>0</td>\n",
              "      <td>5</td>\n",
              "      <td>22</td>\n",
              "      <td>0</td>\n",
              "      <td>5</td>\n",
              "      <td>1</td>\n",
              "      <td>51</td>\n",
              "      <td>2</td>\n",
              "      <td>10</td>\n",
              "      <td>...</td>\n",
              "      <td>0</td>\n",
              "      <td>0</td>\n",
              "      <td>0</td>\n",
              "      <td>0</td>\n",
              "      <td>0</td>\n",
              "      <td>0</td>\n",
              "      <td>0</td>\n",
              "      <td>0</td>\n",
              "      <td>0</td>\n",
              "      <td>0</td>\n",
              "    </tr>\n",
              "    <tr>\n",
              "      <th>4</th>\n",
              "      <td>Email 5</td>\n",
              "      <td>7</td>\n",
              "      <td>6</td>\n",
              "      <td>17</td>\n",
              "      <td>1</td>\n",
              "      <td>5</td>\n",
              "      <td>2</td>\n",
              "      <td>57</td>\n",
              "      <td>0</td>\n",
              "      <td>9</td>\n",
              "      <td>...</td>\n",
              "      <td>0</td>\n",
              "      <td>0</td>\n",
              "      <td>0</td>\n",
              "      <td>0</td>\n",
              "      <td>0</td>\n",
              "      <td>0</td>\n",
              "      <td>0</td>\n",
              "      <td>1</td>\n",
              "      <td>0</td>\n",
              "      <td>0</td>\n",
              "    </tr>\n",
              "  </tbody>\n",
              "</table>\n",
              "<p>5 rows × 3002 columns</p>\n",
              "</div>\n",
              "      <button class=\"colab-df-convert\" onclick=\"convertToInteractive('df-5da5c514-c1d3-40ab-981a-ab3f40ecf1e7')\"\n",
              "              title=\"Convert this dataframe to an interactive table.\"\n",
              "              style=\"display:none;\">\n",
              "        \n",
              "  <svg xmlns=\"http://www.w3.org/2000/svg\" height=\"24px\"viewBox=\"0 0 24 24\"\n",
              "       width=\"24px\">\n",
              "    <path d=\"M0 0h24v24H0V0z\" fill=\"none\"/>\n",
              "    <path d=\"M18.56 5.44l.94 2.06.94-2.06 2.06-.94-2.06-.94-.94-2.06-.94 2.06-2.06.94zm-11 1L8.5 8.5l.94-2.06 2.06-.94-2.06-.94L8.5 2.5l-.94 2.06-2.06.94zm10 10l.94 2.06.94-2.06 2.06-.94-2.06-.94-.94-2.06-.94 2.06-2.06.94z\"/><path d=\"M17.41 7.96l-1.37-1.37c-.4-.4-.92-.59-1.43-.59-.52 0-1.04.2-1.43.59L10.3 9.45l-7.72 7.72c-.78.78-.78 2.05 0 2.83L4 21.41c.39.39.9.59 1.41.59.51 0 1.02-.2 1.41-.59l7.78-7.78 2.81-2.81c.8-.78.8-2.07 0-2.86zM5.41 20L4 18.59l7.72-7.72 1.47 1.35L5.41 20z\"/>\n",
              "  </svg>\n",
              "      </button>\n",
              "      \n",
              "  <style>\n",
              "    .colab-df-container {\n",
              "      display:flex;\n",
              "      flex-wrap:wrap;\n",
              "      gap: 12px;\n",
              "    }\n",
              "\n",
              "    .colab-df-convert {\n",
              "      background-color: #E8F0FE;\n",
              "      border: none;\n",
              "      border-radius: 50%;\n",
              "      cursor: pointer;\n",
              "      display: none;\n",
              "      fill: #1967D2;\n",
              "      height: 32px;\n",
              "      padding: 0 0 0 0;\n",
              "      width: 32px;\n",
              "    }\n",
              "\n",
              "    .colab-df-convert:hover {\n",
              "      background-color: #E2EBFA;\n",
              "      box-shadow: 0px 1px 2px rgba(60, 64, 67, 0.3), 0px 1px 3px 1px rgba(60, 64, 67, 0.15);\n",
              "      fill: #174EA6;\n",
              "    }\n",
              "\n",
              "    [theme=dark] .colab-df-convert {\n",
              "      background-color: #3B4455;\n",
              "      fill: #D2E3FC;\n",
              "    }\n",
              "\n",
              "    [theme=dark] .colab-df-convert:hover {\n",
              "      background-color: #434B5C;\n",
              "      box-shadow: 0px 1px 3px 1px rgba(0, 0, 0, 0.15);\n",
              "      filter: drop-shadow(0px 1px 2px rgba(0, 0, 0, 0.3));\n",
              "      fill: #FFFFFF;\n",
              "    }\n",
              "  </style>\n",
              "\n",
              "      <script>\n",
              "        const buttonEl =\n",
              "          document.querySelector('#df-5da5c514-c1d3-40ab-981a-ab3f40ecf1e7 button.colab-df-convert');\n",
              "        buttonEl.style.display =\n",
              "          google.colab.kernel.accessAllowed ? 'block' : 'none';\n",
              "\n",
              "        async function convertToInteractive(key) {\n",
              "          const element = document.querySelector('#df-5da5c514-c1d3-40ab-981a-ab3f40ecf1e7');\n",
              "          const dataTable =\n",
              "            await google.colab.kernel.invokeFunction('convertToInteractive',\n",
              "                                                     [key], {});\n",
              "          if (!dataTable) return;\n",
              "\n",
              "          const docLinkHtml = 'Like what you see? Visit the ' +\n",
              "            '<a target=\"_blank\" href=https://colab.research.google.com/notebooks/data_table.ipynb>data table notebook</a>'\n",
              "            + ' to learn more about interactive tables.';\n",
              "          element.innerHTML = '';\n",
              "          dataTable['output_type'] = 'display_data';\n",
              "          await google.colab.output.renderOutput(dataTable, element);\n",
              "          const docLink = document.createElement('div');\n",
              "          docLink.innerHTML = docLinkHtml;\n",
              "          element.appendChild(docLink);\n",
              "        }\n",
              "      </script>\n",
              "    </div>\n",
              "  </div>\n",
              "  "
            ]
          },
          "metadata": {},
          "execution_count": 4
        }
      ],
      "metadata": {
        "datalore": {
          "node_id": "yfyNpm25jyzCNCFOWtDwlM",
          "type": "CODE",
          "hide_input_from_viewers": true,
          "hide_output_from_viewers": true
        },
        "id": "XmZzlfeGphjz",
        "outputId": "c41332ed-df26-4940-b088-4d801af5aa96",
        "colab": {
          "base_uri": "https://localhost:8080/",
          "height": 235
        }
      }
    },
    {
      "cell_type": "code",
      "source": [
        "df.Prediction.value_counts()"
      ],
      "metadata": {
        "id": "1UkWeN6Q5Ser",
        "outputId": "baa7cc71-f749-4986-b751-3554f04ad812",
        "colab": {
          "base_uri": "https://localhost:8080/"
        }
      },
      "execution_count": 13,
      "outputs": [
        {
          "output_type": "execute_result",
          "data": {
            "text/plain": [
              "0    3672\n",
              "1    1500\n",
              "Name: Prediction, dtype: int64"
            ]
          },
          "metadata": {},
          "execution_count": 13
        }
      ]
    },
    {
      "cell_type": "code",
      "source": [
        "df.info()"
      ],
      "metadata": {
        "id": "JpJ2vNvv3vkW",
        "outputId": "e18a33b6-c011-48d6-f5a3-7f447c548155",
        "colab": {
          "base_uri": "https://localhost:8080/"
        }
      },
      "execution_count": 5,
      "outputs": [
        {
          "output_type": "stream",
          "name": "stdout",
          "text": [
            "<class 'pandas.core.frame.DataFrame'>\n",
            "RangeIndex: 5172 entries, 0 to 5171\n",
            "Columns: 3002 entries, Email No. to Prediction\n",
            "dtypes: int64(3001), object(1)\n",
            "memory usage: 118.5+ MB\n"
          ]
        }
      ]
    },
    {
      "cell_type": "code",
      "source": [
        "df.describe()"
      ],
      "metadata": {
        "id": "TbFXyp0z3x40",
        "outputId": "7b19cefb-915c-4a5b-c206-7dba8c406578",
        "colab": {
          "base_uri": "https://localhost:8080/",
          "height": 393
        }
      },
      "execution_count": 7,
      "outputs": [
        {
          "output_type": "execute_result",
          "data": {
            "text/plain": [
              "               the           to          ect          and          for  \\\n",
              "count  5172.000000  5172.000000  5172.000000  5172.000000  5172.000000   \n",
              "mean      6.640565     6.188128     5.143852     3.075599     3.124710   \n",
              "std      11.745009     9.534576    14.101142     6.045970     4.680522   \n",
              "min       0.000000     0.000000     1.000000     0.000000     0.000000   \n",
              "25%       0.000000     1.000000     1.000000     0.000000     1.000000   \n",
              "50%       3.000000     3.000000     1.000000     1.000000     2.000000   \n",
              "75%       8.000000     7.000000     4.000000     3.000000     4.000000   \n",
              "max     210.000000   132.000000   344.000000    89.000000    47.000000   \n",
              "\n",
              "                of            a          you          hou           in  ...  \\\n",
              "count  5172.000000  5172.000000  5172.000000  5172.000000  5172.000000  ...   \n",
              "mean      2.627030    55.517401     2.466551     2.024362    10.600155  ...   \n",
              "std       6.229845    87.574172     4.314444     6.967878    19.281892  ...   \n",
              "min       0.000000     0.000000     0.000000     0.000000     0.000000  ...   \n",
              "25%       0.000000    12.000000     0.000000     0.000000     1.000000  ...   \n",
              "50%       1.000000    28.000000     1.000000     0.000000     5.000000  ...   \n",
              "75%       2.000000    62.250000     3.000000     1.000000    12.000000  ...   \n",
              "max      77.000000  1898.000000    70.000000   167.000000   223.000000  ...   \n",
              "\n",
              "          connevey          jay       valued          lay  infrastructure  \\\n",
              "count  5172.000000  5172.000000  5172.000000  5172.000000     5172.000000   \n",
              "mean      0.005027     0.012568     0.010634     0.098028        0.004254   \n",
              "std       0.105788     0.199682     0.116693     0.569532        0.096252   \n",
              "min       0.000000     0.000000     0.000000     0.000000        0.000000   \n",
              "25%       0.000000     0.000000     0.000000     0.000000        0.000000   \n",
              "50%       0.000000     0.000000     0.000000     0.000000        0.000000   \n",
              "75%       0.000000     0.000000     0.000000     0.000000        0.000000   \n",
              "max       4.000000     7.000000     2.000000    12.000000        3.000000   \n",
              "\n",
              "          military     allowing           ff          dry   Prediction  \n",
              "count  5172.000000  5172.000000  5172.000000  5172.000000  5172.000000  \n",
              "mean      0.006574     0.004060     0.914733     0.006961     0.290023  \n",
              "std       0.138908     0.072145     2.780203     0.098086     0.453817  \n",
              "min       0.000000     0.000000     0.000000     0.000000     0.000000  \n",
              "25%       0.000000     0.000000     0.000000     0.000000     0.000000  \n",
              "50%       0.000000     0.000000     0.000000     0.000000     0.000000  \n",
              "75%       0.000000     0.000000     1.000000     0.000000     1.000000  \n",
              "max       4.000000     3.000000   114.000000     4.000000     1.000000  \n",
              "\n",
              "[8 rows x 3001 columns]"
            ],
            "text/html": [
              "\n",
              "  <div id=\"df-3f3c6a9a-a01e-4eb5-b087-166d0b9f0b26\">\n",
              "    <div class=\"colab-df-container\">\n",
              "      <div>\n",
              "<style scoped>\n",
              "    .dataframe tbody tr th:only-of-type {\n",
              "        vertical-align: middle;\n",
              "    }\n",
              "\n",
              "    .dataframe tbody tr th {\n",
              "        vertical-align: top;\n",
              "    }\n",
              "\n",
              "    .dataframe thead th {\n",
              "        text-align: right;\n",
              "    }\n",
              "</style>\n",
              "<table border=\"1\" class=\"dataframe\">\n",
              "  <thead>\n",
              "    <tr style=\"text-align: right;\">\n",
              "      <th></th>\n",
              "      <th>the</th>\n",
              "      <th>to</th>\n",
              "      <th>ect</th>\n",
              "      <th>and</th>\n",
              "      <th>for</th>\n",
              "      <th>of</th>\n",
              "      <th>a</th>\n",
              "      <th>you</th>\n",
              "      <th>hou</th>\n",
              "      <th>in</th>\n",
              "      <th>...</th>\n",
              "      <th>connevey</th>\n",
              "      <th>jay</th>\n",
              "      <th>valued</th>\n",
              "      <th>lay</th>\n",
              "      <th>infrastructure</th>\n",
              "      <th>military</th>\n",
              "      <th>allowing</th>\n",
              "      <th>ff</th>\n",
              "      <th>dry</th>\n",
              "      <th>Prediction</th>\n",
              "    </tr>\n",
              "  </thead>\n",
              "  <tbody>\n",
              "    <tr>\n",
              "      <th>count</th>\n",
              "      <td>5172.000000</td>\n",
              "      <td>5172.000000</td>\n",
              "      <td>5172.000000</td>\n",
              "      <td>5172.000000</td>\n",
              "      <td>5172.000000</td>\n",
              "      <td>5172.000000</td>\n",
              "      <td>5172.000000</td>\n",
              "      <td>5172.000000</td>\n",
              "      <td>5172.000000</td>\n",
              "      <td>5172.000000</td>\n",
              "      <td>...</td>\n",
              "      <td>5172.000000</td>\n",
              "      <td>5172.000000</td>\n",
              "      <td>5172.000000</td>\n",
              "      <td>5172.000000</td>\n",
              "      <td>5172.000000</td>\n",
              "      <td>5172.000000</td>\n",
              "      <td>5172.000000</td>\n",
              "      <td>5172.000000</td>\n",
              "      <td>5172.000000</td>\n",
              "      <td>5172.000000</td>\n",
              "    </tr>\n",
              "    <tr>\n",
              "      <th>mean</th>\n",
              "      <td>6.640565</td>\n",
              "      <td>6.188128</td>\n",
              "      <td>5.143852</td>\n",
              "      <td>3.075599</td>\n",
              "      <td>3.124710</td>\n",
              "      <td>2.627030</td>\n",
              "      <td>55.517401</td>\n",
              "      <td>2.466551</td>\n",
              "      <td>2.024362</td>\n",
              "      <td>10.600155</td>\n",
              "      <td>...</td>\n",
              "      <td>0.005027</td>\n",
              "      <td>0.012568</td>\n",
              "      <td>0.010634</td>\n",
              "      <td>0.098028</td>\n",
              "      <td>0.004254</td>\n",
              "      <td>0.006574</td>\n",
              "      <td>0.004060</td>\n",
              "      <td>0.914733</td>\n",
              "      <td>0.006961</td>\n",
              "      <td>0.290023</td>\n",
              "    </tr>\n",
              "    <tr>\n",
              "      <th>std</th>\n",
              "      <td>11.745009</td>\n",
              "      <td>9.534576</td>\n",
              "      <td>14.101142</td>\n",
              "      <td>6.045970</td>\n",
              "      <td>4.680522</td>\n",
              "      <td>6.229845</td>\n",
              "      <td>87.574172</td>\n",
              "      <td>4.314444</td>\n",
              "      <td>6.967878</td>\n",
              "      <td>19.281892</td>\n",
              "      <td>...</td>\n",
              "      <td>0.105788</td>\n",
              "      <td>0.199682</td>\n",
              "      <td>0.116693</td>\n",
              "      <td>0.569532</td>\n",
              "      <td>0.096252</td>\n",
              "      <td>0.138908</td>\n",
              "      <td>0.072145</td>\n",
              "      <td>2.780203</td>\n",
              "      <td>0.098086</td>\n",
              "      <td>0.453817</td>\n",
              "    </tr>\n",
              "    <tr>\n",
              "      <th>min</th>\n",
              "      <td>0.000000</td>\n",
              "      <td>0.000000</td>\n",
              "      <td>1.000000</td>\n",
              "      <td>0.000000</td>\n",
              "      <td>0.000000</td>\n",
              "      <td>0.000000</td>\n",
              "      <td>0.000000</td>\n",
              "      <td>0.000000</td>\n",
              "      <td>0.000000</td>\n",
              "      <td>0.000000</td>\n",
              "      <td>...</td>\n",
              "      <td>0.000000</td>\n",
              "      <td>0.000000</td>\n",
              "      <td>0.000000</td>\n",
              "      <td>0.000000</td>\n",
              "      <td>0.000000</td>\n",
              "      <td>0.000000</td>\n",
              "      <td>0.000000</td>\n",
              "      <td>0.000000</td>\n",
              "      <td>0.000000</td>\n",
              "      <td>0.000000</td>\n",
              "    </tr>\n",
              "    <tr>\n",
              "      <th>25%</th>\n",
              "      <td>0.000000</td>\n",
              "      <td>1.000000</td>\n",
              "      <td>1.000000</td>\n",
              "      <td>0.000000</td>\n",
              "      <td>1.000000</td>\n",
              "      <td>0.000000</td>\n",
              "      <td>12.000000</td>\n",
              "      <td>0.000000</td>\n",
              "      <td>0.000000</td>\n",
              "      <td>1.000000</td>\n",
              "      <td>...</td>\n",
              "      <td>0.000000</td>\n",
              "      <td>0.000000</td>\n",
              "      <td>0.000000</td>\n",
              "      <td>0.000000</td>\n",
              "      <td>0.000000</td>\n",
              "      <td>0.000000</td>\n",
              "      <td>0.000000</td>\n",
              "      <td>0.000000</td>\n",
              "      <td>0.000000</td>\n",
              "      <td>0.000000</td>\n",
              "    </tr>\n",
              "    <tr>\n",
              "      <th>50%</th>\n",
              "      <td>3.000000</td>\n",
              "      <td>3.000000</td>\n",
              "      <td>1.000000</td>\n",
              "      <td>1.000000</td>\n",
              "      <td>2.000000</td>\n",
              "      <td>1.000000</td>\n",
              "      <td>28.000000</td>\n",
              "      <td>1.000000</td>\n",
              "      <td>0.000000</td>\n",
              "      <td>5.000000</td>\n",
              "      <td>...</td>\n",
              "      <td>0.000000</td>\n",
              "      <td>0.000000</td>\n",
              "      <td>0.000000</td>\n",
              "      <td>0.000000</td>\n",
              "      <td>0.000000</td>\n",
              "      <td>0.000000</td>\n",
              "      <td>0.000000</td>\n",
              "      <td>0.000000</td>\n",
              "      <td>0.000000</td>\n",
              "      <td>0.000000</td>\n",
              "    </tr>\n",
              "    <tr>\n",
              "      <th>75%</th>\n",
              "      <td>8.000000</td>\n",
              "      <td>7.000000</td>\n",
              "      <td>4.000000</td>\n",
              "      <td>3.000000</td>\n",
              "      <td>4.000000</td>\n",
              "      <td>2.000000</td>\n",
              "      <td>62.250000</td>\n",
              "      <td>3.000000</td>\n",
              "      <td>1.000000</td>\n",
              "      <td>12.000000</td>\n",
              "      <td>...</td>\n",
              "      <td>0.000000</td>\n",
              "      <td>0.000000</td>\n",
              "      <td>0.000000</td>\n",
              "      <td>0.000000</td>\n",
              "      <td>0.000000</td>\n",
              "      <td>0.000000</td>\n",
              "      <td>0.000000</td>\n",
              "      <td>1.000000</td>\n",
              "      <td>0.000000</td>\n",
              "      <td>1.000000</td>\n",
              "    </tr>\n",
              "    <tr>\n",
              "      <th>max</th>\n",
              "      <td>210.000000</td>\n",
              "      <td>132.000000</td>\n",
              "      <td>344.000000</td>\n",
              "      <td>89.000000</td>\n",
              "      <td>47.000000</td>\n",
              "      <td>77.000000</td>\n",
              "      <td>1898.000000</td>\n",
              "      <td>70.000000</td>\n",
              "      <td>167.000000</td>\n",
              "      <td>223.000000</td>\n",
              "      <td>...</td>\n",
              "      <td>4.000000</td>\n",
              "      <td>7.000000</td>\n",
              "      <td>2.000000</td>\n",
              "      <td>12.000000</td>\n",
              "      <td>3.000000</td>\n",
              "      <td>4.000000</td>\n",
              "      <td>3.000000</td>\n",
              "      <td>114.000000</td>\n",
              "      <td>4.000000</td>\n",
              "      <td>1.000000</td>\n",
              "    </tr>\n",
              "  </tbody>\n",
              "</table>\n",
              "<p>8 rows × 3001 columns</p>\n",
              "</div>\n",
              "      <button class=\"colab-df-convert\" onclick=\"convertToInteractive('df-3f3c6a9a-a01e-4eb5-b087-166d0b9f0b26')\"\n",
              "              title=\"Convert this dataframe to an interactive table.\"\n",
              "              style=\"display:none;\">\n",
              "        \n",
              "  <svg xmlns=\"http://www.w3.org/2000/svg\" height=\"24px\"viewBox=\"0 0 24 24\"\n",
              "       width=\"24px\">\n",
              "    <path d=\"M0 0h24v24H0V0z\" fill=\"none\"/>\n",
              "    <path d=\"M18.56 5.44l.94 2.06.94-2.06 2.06-.94-2.06-.94-.94-2.06-.94 2.06-2.06.94zm-11 1L8.5 8.5l.94-2.06 2.06-.94-2.06-.94L8.5 2.5l-.94 2.06-2.06.94zm10 10l.94 2.06.94-2.06 2.06-.94-2.06-.94-.94-2.06-.94 2.06-2.06.94z\"/><path d=\"M17.41 7.96l-1.37-1.37c-.4-.4-.92-.59-1.43-.59-.52 0-1.04.2-1.43.59L10.3 9.45l-7.72 7.72c-.78.78-.78 2.05 0 2.83L4 21.41c.39.39.9.59 1.41.59.51 0 1.02-.2 1.41-.59l7.78-7.78 2.81-2.81c.8-.78.8-2.07 0-2.86zM5.41 20L4 18.59l7.72-7.72 1.47 1.35L5.41 20z\"/>\n",
              "  </svg>\n",
              "      </button>\n",
              "      \n",
              "  <style>\n",
              "    .colab-df-container {\n",
              "      display:flex;\n",
              "      flex-wrap:wrap;\n",
              "      gap: 12px;\n",
              "    }\n",
              "\n",
              "    .colab-df-convert {\n",
              "      background-color: #E8F0FE;\n",
              "      border: none;\n",
              "      border-radius: 50%;\n",
              "      cursor: pointer;\n",
              "      display: none;\n",
              "      fill: #1967D2;\n",
              "      height: 32px;\n",
              "      padding: 0 0 0 0;\n",
              "      width: 32px;\n",
              "    }\n",
              "\n",
              "    .colab-df-convert:hover {\n",
              "      background-color: #E2EBFA;\n",
              "      box-shadow: 0px 1px 2px rgba(60, 64, 67, 0.3), 0px 1px 3px 1px rgba(60, 64, 67, 0.15);\n",
              "      fill: #174EA6;\n",
              "    }\n",
              "\n",
              "    [theme=dark] .colab-df-convert {\n",
              "      background-color: #3B4455;\n",
              "      fill: #D2E3FC;\n",
              "    }\n",
              "\n",
              "    [theme=dark] .colab-df-convert:hover {\n",
              "      background-color: #434B5C;\n",
              "      box-shadow: 0px 1px 3px 1px rgba(0, 0, 0, 0.15);\n",
              "      filter: drop-shadow(0px 1px 2px rgba(0, 0, 0, 0.3));\n",
              "      fill: #FFFFFF;\n",
              "    }\n",
              "  </style>\n",
              "\n",
              "      <script>\n",
              "        const buttonEl =\n",
              "          document.querySelector('#df-3f3c6a9a-a01e-4eb5-b087-166d0b9f0b26 button.colab-df-convert');\n",
              "        buttonEl.style.display =\n",
              "          google.colab.kernel.accessAllowed ? 'block' : 'none';\n",
              "\n",
              "        async function convertToInteractive(key) {\n",
              "          const element = document.querySelector('#df-3f3c6a9a-a01e-4eb5-b087-166d0b9f0b26');\n",
              "          const dataTable =\n",
              "            await google.colab.kernel.invokeFunction('convertToInteractive',\n",
              "                                                     [key], {});\n",
              "          if (!dataTable) return;\n",
              "\n",
              "          const docLinkHtml = 'Like what you see? Visit the ' +\n",
              "            '<a target=\"_blank\" href=https://colab.research.google.com/notebooks/data_table.ipynb>data table notebook</a>'\n",
              "            + ' to learn more about interactive tables.';\n",
              "          element.innerHTML = '';\n",
              "          dataTable['output_type'] = 'display_data';\n",
              "          await google.colab.output.renderOutput(dataTable, element);\n",
              "          const docLink = document.createElement('div');\n",
              "          docLink.innerHTML = docLinkHtml;\n",
              "          element.appendChild(docLink);\n",
              "        }\n",
              "      </script>\n",
              "    </div>\n",
              "  </div>\n",
              "  "
            ]
          },
          "metadata": {},
          "execution_count": 7
        }
      ]
    },
    {
      "cell_type": "code",
      "source": [
        "df.columns.value_counts()"
      ],
      "metadata": {
        "id": "pFMN1O8l8kZn",
        "outputId": "5ac2e9f2-8a36-4256-8a11-b6de30fbbcb3",
        "colab": {
          "base_uri": "https://localhost:8080/"
        }
      },
      "execution_count": 21,
      "outputs": [
        {
          "output_type": "execute_result",
          "data": {
            "text/plain": [
              "Email No.     1\n",
              "region        1\n",
              "bryce         1\n",
              "outages       1\n",
              "adjust        1\n",
              "             ..\n",
              "god           1\n",
              "green         1\n",
              "care          1\n",
              "withers       1\n",
              "Prediction    1\n",
              "Length: 3002, dtype: int64"
            ]
          },
          "metadata": {},
          "execution_count": 21
        }
      ]
    },
    {
      "cell_type": "markdown",
      "source": [
        "## Looking at the data"
      ],
      "metadata": {
        "datalore": {
          "node_id": "zvjpKUkrIVkahpty2eoRva",
          "type": "MD",
          "hide_input_from_viewers": true,
          "hide_output_from_viewers": true
        },
        "id": "3UKDF3mfphj1"
      }
    },
    {
      "cell_type": "code",
      "source": [
        "# Plot histogram to visualize the top 5 common words in spam mail and non-spam mails seperately.\n",
        "\n",
        "# Separate spam and non-spam emails\n",
        "spam_df = df[df['predictions'] == 1]\n",
        "non_spam_df = df[df['predictions'] == 0]\n",
        "\n"
      ],
      "execution_count": 16,
      "outputs": [],
      "metadata": {
        "datalore": {
          "node_id": "CFY6hpEHnTNc05xveVXitg",
          "type": "CODE",
          "hide_input_from_viewers": true,
          "hide_output_from_viewers": true
        },
        "id": "p5DYz7QQphj1"
      }
    },
    {
      "cell_type": "code",
      "source": [
        "# Sum the frequency of each word across all emails\n",
        "spam_words = spam_df.iloc[:, 1:-1].sum()\n",
        "non_spam_words = non_spam_df.iloc[:, 1:-1].sum()"
      ],
      "metadata": {
        "id": "pPyqPzwP8VYR"
      },
      "execution_count": 17,
      "outputs": []
    },
    {
      "cell_type": "code",
      "source": [
        "# Get the top 5 common words for each category\n",
        "top_spam_words = spam_words.nlargest(5)\n",
        "top_non_spam_words = non_spam_words.nlargest(5)\n",
        "\n",
        "# Plot histograms of the top 5 common words in spam and non-spam emails separately\n",
        "plt.subplot(121)\n",
        "plt.bar(top_spam_words.index, top_spam_words.values)\n",
        "plt.title('Top 5 common words in spam emails')\n",
        "\n",
        "plt.subplot(122)\n",
        "plt.bar(top_non_spam_words.index, top_non_spam_words.values)\n",
        "plt.title('Top 5 common words in non-spam emails')\n",
        "\n",
        "plt.show()"
      ],
      "metadata": {
        "id": "QFp_IZBA8aop",
        "outputId": "c2331de9-60e5-4adf-d289-f4f2f39695d5",
        "colab": {
          "base_uri": "https://localhost:8080/",
          "height": 452
        }
      },
      "execution_count": 23,
      "outputs": [
        {
          "output_type": "display_data",
          "data": {
            "text/plain": [
              "<Figure size 640x480 with 2 Axes>"
            ],
            "image/png": "[encoded data removed]"
          },
          "metadata": {}
        }
      ]
    },
    {
      "cell_type": "markdown",
      "source": [
        "## Figuring out some comparatively more important features"
      ],
      "metadata": {
        "datalore": {
          "node_id": "C3PCd8f8vDpy1xh1S0jLnr",
          "type": "MD",
          "hide_input_from_viewers": true,
          "hide_output_from_viewers": true
        },
        "id": "CTfvk5Prphj1"
      }
    },
    {
      "cell_type": "code",
      "source": [
        "# There are 3K rows given in this dataset, can you think of some method to reduce the number of columns in the dataset? \n",
        "# Try taking only top 1.5K that will comprise of some of the most \"deciding factors\" "
      ],
      "execution_count": null,
      "outputs": [],
      "metadata": {
        "datalore": {
          "node_id": "2ZKzjK3mKBGSfxz73JEBVF",
          "type": "CODE",
          "hide_input_from_viewers": true,
          "hide_output_from_viewers": true
        },
        "id": "6hAZW0ojphj1"
      }
    },
    {
      "cell_type": "code",
      "source": [],
      "metadata": {
        "id": "zFKrR1Bq55w8"
      },
      "execution_count": null,
      "outputs": []
    },
    {
      "cell_type": "markdown",
      "source": [
        "## Train - Test Split"
      ],
      "metadata": {
        "datalore": {
          "node_id": "5xGBoaQ3gyqscgTKblwyrX",
          "type": "MD",
          "hide_input_from_viewers": true,
          "hide_output_from_viewers": true
        },
        "id": "PdLxvmYEphj2"
      }
    },
    {
      "cell_type": "code",
      "source": [
        "# Create trianing and testing data"
      ],
      "execution_count": null,
      "outputs": [],
      "metadata": {
        "datalore": {
          "node_id": "DIQmF7EKujPfytxRg3YCI7",
          "type": "CODE",
          "hide_input_from_viewers": true,
          "hide_output_from_viewers": true
        },
        "id": "ilSMfYvNphj2"
      }
    },
    {
      "cell_type": "markdown",
      "source": [
        "## Making Predictions using Multinomial NB Classifier"
      ],
      "metadata": {
        "datalore": {
          "node_id": "UN8loYrBwgtFXUDewcXM17",
          "type": "MD",
          "hide_input_from_viewers": true,
          "hide_output_from_viewers": true
        },
        "id": "LyAI6bXyphj2"
      }
    },
    {
      "cell_type": "code",
      "source": [
        "# Feed the train data into multinomial naive bias classifier"
      ],
      "execution_count": null,
      "outputs": [],
      "metadata": {
        "datalore": {
          "node_id": "6yp042arvwnqg0LGrmuWWV",
          "type": "CODE",
          "hide_input_from_viewers": true,
          "hide_output_from_viewers": true
        },
        "id": "JOOUliftphj3"
      }
    },
    {
      "cell_type": "code",
      "source": [
        "# Check the model's accuracy of test data and plot the ROC-AUC curve"
      ],
      "execution_count": null,
      "outputs": [],
      "metadata": {
        "datalore": {
          "node_id": "wtCFPWcgIz4aAXhzKV6wE8",
          "type": "CODE",
          "hide_input_from_viewers": true,
          "hide_output_from_viewers": true
        },
        "id": "hVOwvryVphj3"
      }
    },
    {
      "cell_type": "markdown",
      "source": [
        "## Plot the confusion Matrix"
      ],
      "metadata": {
        "datalore": {
          "node_id": "g6MfgE1AdZhjcc50qcKU1s",
          "type": "MD",
          "hide_input_from_viewers": true,
          "hide_output_from_viewers": true
        },
        "id": "YiMEz8DDphj3"
      }
    },
    {
      "cell_type": "code",
      "source": [
        "# Print Confusion Matrix using any 5 words of your choice with the column 'spam'"
      ],
      "execution_count": null,
      "outputs": [],
      "metadata": {
        "datalore": {
          "node_id": "tiAhIiHk0VOWiKcZY5FLXw",
          "type": "CODE",
          "hide_input_from_viewers": true,
          "hide_output_from_viewers": true
        },
        "id": "t7v79Msbphj3"
      }
    },
    {
      "cell_type": "markdown",
      "source": [
        "## Trying out with SVMs"
      ],
      "metadata": {
        "datalore": {
          "node_id": "HF7SHfRsuivs31MT5QEdYU",
          "type": "MD",
          "hide_input_from_viewers": true,
          "hide_output_from_viewers": true
        },
        "id": "VhM5aYFSphj4"
      }
    },
    {
      "cell_type": "code",
      "source": [
        "# Try using Support Vector Classifier (SVC) from scikit-learn\n",
        "# Apply similar processes as above through SVC i.e., Make prediction, check accuacy and plot confusion matrix"
      ],
      "execution_count": null,
      "outputs": [],
      "metadata": {
        "datalore": {
          "node_id": "dharQLmMD4LOZurvenkdom",
          "type": "CODE",
          "hide_input_from_viewers": true,
          "hide_output_from_viewers": true
        },
        "id": "rk1YP6WMphj4"
      }
    },
    {
      "cell_type": "markdown",
      "source": [
        "## Comparing the models"
      ],
      "metadata": {
        "datalore": {
          "node_id": "rDs3zZmLCuEMozF6sE4QdY",
          "type": "MD",
          "hide_input_from_viewers": true,
          "hide_output_from_viewers": true
        },
        "id": "Hs00CwO6phj4"
      }
    },
    {
      "cell_type": "code",
      "source": [
        "# Which model performed better?\n",
        "# Can you suggest some reason for better performance of one model over the other?"
      ],
      "execution_count": null,
      "outputs": [],
      "metadata": {
        "datalore": {
          "node_id": "OXkV2RFBF1Ld7DQFVa6083",
          "type": "CODE",
          "hide_input_from_viewers": true,
          "hide_output_from_viewers": true
        },
        "id": "6-o7lnVvphj5"
      }
    },
    {
      "cell_type": "markdown",
      "source": [
        "## Bonus Question"
      ],
      "metadata": {
        "datalore": {
          "node_id": "ZaqRxhVmJPCcmG1rd2ksQs",
          "type": "MD",
          "hide_input_from_viewers": true,
          "hide_output_from_viewers": true
        },
        "id": "LSOl_bKxphj5"
      }
    },
    {
      "cell_type": "code",
      "source": [
        "# Given a string. Try to create the dataset having each word of dataset as column and row values as the frequency of that word.\n",
        "# For example \n",
        "# s = \"I am a Python developer and currently working on a project to classify mails\"\n",
        "# dataframe = {\"I\" : 1,\n",
        "#              \"am\" :1,\n",
        "#              \"a\" : 2,\n",
        "#               ...}"
      ],
      "execution_count": null,
      "outputs": [],
      "metadata": {
        "datalore": {
          "node_id": "AlYkiwHK5HWuVKBPZBPTuj",
          "type": "CODE",
          "hide_input_from_viewers": true,
          "hide_output_from_viewers": true
        },
        "id": "u-n_HIK5phj5"
      }
    },
    {
      "cell_type": "code",
      "source": [],
      "execution_count": null,
      "outputs": [],
      "metadata": {
        "datalore": {
          "node_id": "egNNvx9SUBtWQyfbiO2Nea",
          "type": "CODE",
          "hide_input_from_viewers": true,
          "hide_output_from_viewers": true
        },
        "id": "PgRSv8kRphj5"
      }
    }
  ],
  "metadata": {
    "kernelspec": {
      "display_name": "Python",
      "language": "python",
      "name": "python"
    },
    "datalore": {
      "computation_mode": "JUPYTER",
      "package_manager": "pip",
      "base_environment": "default",
      "packages": [],
      "report_row_ids": [],
      "version": 3
    },
    "colab": {
      "provenance": [],
      "include_colab_link": true
    }
  },
  "nbformat": 4,
  "nbformat_minor": 0
}